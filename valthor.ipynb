{
 "cells": [
  {
   "cell_type": "code",
   "execution_count": 1,
   "metadata": {
    "autoscroll": "json-false",
    "collapsed": false,
    "ein.tags": [
     "worksheet-0"
    ]
   },
   "outputs": [],
   "source": [
    "import matplotlib.pyplot as plt\n",
    "import numpy as np\n",
    "from collections import namedtuple\n",
    "plt.style.use('ggplot')"
   ]
  },
  {
   "cell_type": "code",
   "execution_count": 2,
   "metadata": {
    "collapsed": true
   },
   "outputs": [],
   "source": [
    "class DoesNotConvergeError(Exception):\n",
    "    def __init__(self, result):\n",
    "        self.result = result\n",
    "        super(Exception, self).__init__(\"{}\".format(result))"
   ]
  },
  {
   "cell_type": "code",
   "execution_count": 3,
   "metadata": {
    "autoscroll": "json-false",
    "collapsed": false,
    "ein.tags": [
     "worksheet-0"
    ]
   },
   "outputs": [],
   "source": [
    "BisectionResult = namedtuple('BisectionResult', ['result', 'possible_error', 'res','iterations', 'iteration_list'])\n",
    "def bisection(f, a, b, max_iterations=200, tol=1e-12):\n",
    "    \"\"\"\n",
    "    Given a continuous function f(x) which crosses the x axis in the interval between a and b,\n",
    "    this function searches for the intersection by iteratively halving the search space.\n",
    "    f(a) and f(b) must have opposing signs.\n",
    "    \n",
    "    Returns a named tuple containing the resulting x coordinate, the maximum possible error,\n",
    "    the residual, the number of iterations done, and the list of intermediate results for each iteration.\n",
    "    \"\"\"\n",
    "    if f(a)*f(b) > 0: raise ValueError(\"f(a) and f(b) must not have the same sign\")\n",
    "    iterations = 0\n",
    "    c = np.nan\n",
    "    iteration_list = []\n",
    "    while ((b - a) / 2) > tol and iterations < max_iterations:\n",
    "        iterations+=1\n",
    "        c = (a+b)/2\n",
    "        iteration_list.append(c)\n",
    "        if f(c)*f(a) > 0:\n",
    "            a=c\n",
    "        elif f(c)*f(b) > 0:\n",
    "            b=c\n",
    "        else: break\n",
    "    possible_error=(b-a)/2\n",
    "    return BisectionResult(c, possible_error, f(c),iterations, np.array(iteration_list))"
   ]
  },
  {
   "cell_type": "code",
   "execution_count": 4,
   "metadata": {
    "autoscroll": "json-false",
    "collapsed": false,
    "ein.tags": [
     "worksheet-0"
    ]
   },
   "outputs": [],
   "source": [
    "#f = lambda k: (10+1/(2*k))*np.e**(-k)-7-1/(2*k)\n",
    "f = lambda k: -(10+1/(2*k))*np.e**(-k)+7+1/(2*k)"
   ]
  },
  {
   "cell_type": "code",
   "execution_count": 5,
   "metadata": {
    "autoscroll": "json-false",
    "collapsed": false,
    "ein.tags": [
     "worksheet-0"
    ]
   },
   "outputs": [],
   "source": [
    "xs = np.linspace(-3,3,1000)\n",
    "ys = f(xs)\n",
    "\n",
    "bisect_result = bisection(f, -1,2)\n",
    "\n",
    "plt.plot((bisect_result.result,bisect_result.result), (-200, 100), label=\"minimum\")\n",
    "plt.plot(xs,ys, label=\"f(k)\")\n",
    "\n",
    "plt.title(\"2a) \")\n",
    "plt.xlabel(\"k (m)\")\n",
    "plt.ylabel(\"f(k) (m)\")\n",
    "plt.legend()\n",
    "plt.show()"
   ]
  },
  {
   "cell_type": "code",
   "execution_count": 6,
   "metadata": {
    "autoscroll": "json-false",
    "collapsed": false,
    "ein.tags": [
     "worksheet-0"
    ]
   },
   "outputs": [],
   "source": [
    "f_fix = lambda k: k/7*(10+1/(2*k))*np.e**(-k)-1/14"
   ]
  },
  {
   "cell_type": "code",
   "execution_count": 7,
   "metadata": {
    "autoscroll": "json-false",
    "collapsed": false,
    "ein.tags": [
     "worksheet-0"
    ]
   },
   "outputs": [],
   "source": [
    "FixedPointResult = namedtuple('FixedPointResult', ['result', 'iterations', 'iteration_list'])\n",
    "def fixed_point(g, start, tol=1e-12,max_iterations=100):\n",
    "    \"\"\"\n",
    "    Given a function g(x), finds the point g(r) = r by iteratively applying g.\n",
    "    \n",
    "    Not guaranteed to converge.\n",
    "    \n",
    "    Returns a namedtuple containing the resulting r value, the number of iterations taken,\n",
    "    and the list of all intermediate iterations.\n",
    "    \"\"\"\n",
    "    previous = start\n",
    "    current = g(previous)\n",
    "    iterations = 0\n",
    "    iteration_list = []\n",
    "    while np.abs(current - previous) > tol:  \n",
    "        iterations += 1\n",
    "        previous = current\n",
    "        current=g(current)\n",
    "        if iterations >= max_iterations or np.isnan(current):\n",
    "            raise DoesNotConvergeError(FixedPointResult(current, iterations, np.array(iteration_list)))\n",
    "        iteration_list.append(current)\n",
    "    return FixedPointResult(current, iterations, np.array(iteration_list))"
   ]
  },
  {
   "cell_type": "code",
   "execution_count": 8,
   "metadata": {
    "autoscroll": "json-false",
    "collapsed": false,
    "ein.tags": [
     "worksheet-0"
    ]
   },
   "outputs": [
    {
     "name": "stdout",
     "output_type": "stream",
     "text": [
      "FixedPointResult(result=0.29670305321659407, iterations=68, iteration_list=array([ 0.39724103,  0.35803271,  0.3360505 ,  0.32266668,  0.31412983,\n",
      "        0.30852748,  0.30478341,  0.30225113,  0.30052468,  0.29934123,\n",
      "        0.29852699,  0.29796535,  0.29757728,  0.29730881,  0.29712293,\n",
      "        0.29699416,  0.29690491,  0.29684304,  0.29680014,  0.29677039,\n",
      "        0.29674976,  0.29673545,  0.29672553,  0.29671864,  0.29671387,\n",
      "        0.29671055,  0.29670826,  0.29670666,  0.29670556,  0.29670479,\n",
      "        0.29670426,  0.29670389,  0.29670363,  0.29670346,  0.29670333,\n",
      "        0.29670325,  0.29670319,  0.29670315,  0.29670312,  0.2967031 ,\n",
      "        0.29670308,  0.29670307,  0.29670307,  0.29670306,  0.29670306,\n",
      "        0.29670306,  0.29670306,  0.29670306,  0.29670305,  0.29670305,\n",
      "        0.29670305,  0.29670305,  0.29670305,  0.29670305,  0.29670305,\n",
      "        0.29670305,  0.29670305,  0.29670305,  0.29670305,  0.29670305,\n",
      "        0.29670305,  0.29670305,  0.29670305,  0.29670305,  0.29670305,\n",
      "        0.29670305,  0.29670305,  0.29670305]))\n"
     ]
    }
   ],
   "source": [
    "xs = np.linspace(0.10,0.5,1000)\n",
    "ys = f_fix(xs)\n",
    "\n",
    "point = fixed_point(f_fix, 1)\n",
    "print(point)\n",
    "\n",
    "plt.plot(xs,ys, label=\"f_fix(k)\")\n",
    "plt.plot(xs,xs, label=\"k\")\n",
    "\n",
    "#plt.plot((point,point), (plt.ylim(0), plt.ylim(1)), label=\"fixed point\")\n",
    "\n",
    "plt.title(\"2a) \")\n",
    "plt.xlabel(\"k (m)\")\n",
    "plt.ylabel(\"f_fix(k) (m)\")\n",
    "plt.xlim(0,0.5)\n",
    "plt.legend()\n",
    "plt.show()"
   ]
  },
  {
   "cell_type": "code",
   "execution_count": 9,
   "metadata": {
    "autoscroll": "json-false",
    "collapsed": false,
    "ein.tags": [
     "worksheet-0"
    ]
   },
   "outputs": [],
   "source": [
    "def derive(f, h=1e-12):\n",
    "    \"\"\"Given a function f(x), returns a new function f'(x) which\n",
    "    approximates the derivative of f at x\"\"\"\n",
    "    def derived(x):\n",
    "        return (f(x+h)-f(x))/h\n",
    "    return derived\n",
    "\n",
    "\n",
    "def newton(f, fprime, start, tol=1e-12):\n",
    "    \"\"\"Given a function f(x) and its derivative fprime(x), finds the\n",
    "    point x where f(x)=0.\"\"\"\n",
    "    def g(x):\n",
    "        return x - f(x)/fprime(x)\n",
    "    return fixed_point(g, start, tol=tol)\n",
    "\n",
    "def secant(f, start, tol=1e-12):\n",
    "    \"\"\"Given a function f(x), finds the point at which f(x)=0 using newton's\n",
    "    method with an approximated derivative.\"\"\"\n",
    "    return newton(f, derive(f), start, tol=tol)"
   ]
  },
  {
   "cell_type": "code",
   "execution_count": 10,
   "metadata": {
    "autoscroll": "json-false",
    "collapsed": false,
    "ein.tags": [
     "worksheet-0"
    ]
   },
   "outputs": [
    {
     "data": {
      "text/plain": [
       "FixedPointResult(result=-1.3324871338230972, iterations=17, iteration_list=array([-31.96056935, -28.59015488, -25.22024972, -21.84284515,\n",
       "       -18.47190207, -15.12932668, -11.83152524,  -8.64029684,\n",
       "        -5.70382579,  -3.30790429,  -1.84039634,  -1.37190716,\n",
       "        -1.33275868,  -1.33248684,  -1.33248713,  -1.33248713,  -1.33248713]))"
      ]
     },
     "execution_count": 10,
     "metadata": {},
     "output_type": "execute_result"
    }
   ],
   "source": [
    "# Task 6\n",
    "k=0.29670305\n",
    "time_of_death = lambda t: 22 -37 + 0.5*t-1/(2*k) + (10 + 1/(2*k))*np.e**(-k*t)\n",
    "derivative_of_death = lambda t: 0.5 + -k*(10 + 1/(2*k))*np.e**(-k*t)\n",
    "\n",
    "newton(time_of_death, derivative_of_death, 5)\n",
    "secant(time_of_death, 5)"
   ]
  },
  {
   "cell_type": "code",
   "execution_count": 11,
   "metadata": {
    "autoscroll": "json-false",
    "collapsed": false,
    "ein.tags": [
     "worksheet-0"
    ]
   },
   "outputs": [
    {
     "data": {
      "text/plain": [
       "-0.00040501157656080977"
      ]
     },
     "execution_count": 11,
     "metadata": {},
     "output_type": "execute_result"
    }
   ],
   "source": [
    "x = np.linspace(-10,5,1000)\n",
    "plt.plot(x, time_of_death(x)+37)\n",
    "plt.show()\n",
    "plt.plot(x, derivative_of_death(x))\n",
    "time_of_death(-1.3324)"
   ]
  },
  {
   "cell_type": "code",
   "execution_count": 13,
   "metadata": {
    "autoscroll": "json-false",
    "collapsed": false,
    "ein.tags": [
     "worksheet-0"
    ]
   },
   "outputs": [
    {
     "ename": "DoesNotConvergeError",
     "evalue": "FixedPointResult(result=5.579265880707039e+18, iterations=100, iteration_list=array([  5.39549713e+01,   6.42472717e+01,   7.96857210e+01,\n         1.02843395e+02,   1.37579906e+02,   1.89684672e+02,\n         2.67841822e+02,   3.85077546e+02,   5.60931132e+02,\n         8.24711511e+02,   1.22038208e+03,   1.81388793e+03,\n         2.70414671e+03,   4.03953488e+03,   6.04261714e+03,\n         9.04724052e+03,   1.35541756e+04,   2.03145782e+04,\n         3.04551821e+04,   4.56660880e+04,   6.84824468e+04,\n         1.02706985e+05,   1.54043792e+05,   2.31049003e+05,\n         3.46556820e+05,   5.19818545e+05,   7.79711132e+05,\n         1.16955001e+06,   1.75430833e+06,   2.63144582e+06,\n         3.94715204e+06,   5.92071137e+06,   8.88105037e+06,\n         1.33215589e+07,   1.99823216e+07,   2.99734658e+07,\n         4.49601819e+07,   6.74402562e+07,   1.01160368e+08,\n         1.51740535e+08,   2.27610786e+08,   3.41416162e+08,\n         5.12124226e+08,   7.68186322e+08,   1.15227947e+09,\n         1.72841918e+09,   2.59262876e+09,   3.88894312e+09,\n         5.83341466e+09,   8.75012198e+09,   1.31251829e+10,\n         1.96877744e+10,   2.95316616e+10,   4.42974924e+10,\n         6.64462385e+10,   9.96693578e+10,   1.49504037e+11,\n         2.24256055e+11,   3.36384082e+11,   5.04576124e+11,\n         7.56864186e+11,   1.13529628e+12,   1.70294442e+12,\n         2.55441663e+12,   3.83162494e+12,   5.74743741e+12,\n         8.62115611e+12,   1.29317342e+13,   1.93976013e+13,\n         2.90964019e+13,   4.36446028e+13,   6.54669042e+13,\n         9.82003564e+13,   1.47300535e+14,   2.20950802e+14,\n         3.31426203e+14,   4.97139304e+14,   7.45708956e+14,\n         1.11856343e+15,   1.67784515e+15,   2.51676773e+15,\n         3.77515159e+15,   5.66272738e+15,   8.49409108e+15,\n         1.27411366e+16,   1.91117049e+16,   2.86675574e+16,\n         4.30013361e+16,   6.45020041e+16,   9.67530062e+16,\n         1.45129509e+17,   2.17694264e+17,   3.26541396e+17,\n         4.89812094e+17,   7.34718141e+17,   1.10207721e+18,\n         1.65311582e+18,   2.47967372e+18,   3.71951059e+18]))",
     "output_type": "error",
     "traceback": [
      "\u001b[1;31m---------------------------------------------------------------------------\u001b[0m",
      "\u001b[1;31mDoesNotConvergeError\u001b[0m                      Traceback (most recent call last)",
      "\u001b[1;32m<ipython-input-13-6efe5dd0f810>\u001b[0m in \u001b[0;36m<module>\u001b[1;34m()\u001b[0m\n\u001b[1;32m----> 1\u001b[1;33m \u001b[0mfixed_point\u001b[0m\u001b[1;33m(\u001b[0m\u001b[1;32mlambda\u001b[0m \u001b[0mt\u001b[0m\u001b[1;33m:\u001b[0m \u001b[0mtime_of_death\u001b[0m\u001b[1;33m(\u001b[0m\u001b[0mt\u001b[0m\u001b[1;33m)\u001b[0m\u001b[1;33m+\u001b[0m\u001b[0mt\u001b[0m\u001b[1;33m,\u001b[0m \u001b[1;36m1\u001b[0m\u001b[1;33m)\u001b[0m\u001b[1;33m\u001b[0m\u001b[0m\n\u001b[0m",
      "\u001b[1;32m<ipython-input-7-d84d559d1a5d>\u001b[0m in \u001b[0;36mfixed_point\u001b[1;34m(g, start, tol, max_iterations)\u001b[0m\n\u001b[0;32m     18\u001b[0m         \u001b[0mcurrent\u001b[0m\u001b[1;33m=\u001b[0m\u001b[0mg\u001b[0m\u001b[1;33m(\u001b[0m\u001b[0mcurrent\u001b[0m\u001b[1;33m)\u001b[0m\u001b[1;33m\u001b[0m\u001b[0m\n\u001b[0;32m     19\u001b[0m         \u001b[1;32mif\u001b[0m \u001b[0miterations\u001b[0m \u001b[1;33m>=\u001b[0m \u001b[0mmax_iterations\u001b[0m \u001b[1;32mor\u001b[0m \u001b[0mnp\u001b[0m\u001b[1;33m.\u001b[0m\u001b[0misnan\u001b[0m\u001b[1;33m(\u001b[0m\u001b[0mcurrent\u001b[0m\u001b[1;33m)\u001b[0m\u001b[1;33m:\u001b[0m\u001b[1;33m\u001b[0m\u001b[0m\n\u001b[1;32m---> 20\u001b[1;33m             \u001b[1;32mraise\u001b[0m \u001b[0mDoesNotConvergeError\u001b[0m\u001b[1;33m(\u001b[0m\u001b[0mFixedPointResult\u001b[0m\u001b[1;33m(\u001b[0m\u001b[0mcurrent\u001b[0m\u001b[1;33m,\u001b[0m \u001b[0miterations\u001b[0m\u001b[1;33m,\u001b[0m \u001b[0mnp\u001b[0m\u001b[1;33m.\u001b[0m\u001b[0marray\u001b[0m\u001b[1;33m(\u001b[0m\u001b[0miteration_list\u001b[0m\u001b[1;33m)\u001b[0m\u001b[1;33m)\u001b[0m\u001b[1;33m)\u001b[0m\u001b[1;33m\u001b[0m\u001b[0m\n\u001b[0m\u001b[0;32m     21\u001b[0m         \u001b[0miteration_list\u001b[0m\u001b[1;33m.\u001b[0m\u001b[0mappend\u001b[0m\u001b[1;33m(\u001b[0m\u001b[0mcurrent\u001b[0m\u001b[1;33m)\u001b[0m\u001b[1;33m\u001b[0m\u001b[0m\n\u001b[0;32m     22\u001b[0m     \u001b[1;32mreturn\u001b[0m \u001b[0mFixedPointResult\u001b[0m\u001b[1;33m(\u001b[0m\u001b[0mcurrent\u001b[0m\u001b[1;33m,\u001b[0m \u001b[0miterations\u001b[0m\u001b[1;33m,\u001b[0m \u001b[0mnp\u001b[0m\u001b[1;33m.\u001b[0m\u001b[0marray\u001b[0m\u001b[1;33m(\u001b[0m\u001b[0miteration_list\u001b[0m\u001b[1;33m)\u001b[0m\u001b[1;33m)\u001b[0m\u001b[1;33m\u001b[0m\u001b[0m\n",
      "\u001b[1;31mDoesNotConvergeError\u001b[0m: FixedPointResult(result=5.579265880707039e+18, iterations=100, iteration_list=array([  5.39549713e+01,   6.42472717e+01,   7.96857210e+01,\n         1.02843395e+02,   1.37579906e+02,   1.89684672e+02,\n         2.67841822e+02,   3.85077546e+02,   5.60931132e+02,\n         8.24711511e+02,   1.22038208e+03,   1.81388793e+03,\n         2.70414671e+03,   4.03953488e+03,   6.04261714e+03,\n         9.04724052e+03,   1.35541756e+04,   2.03145782e+04,\n         3.04551821e+04,   4.56660880e+04,   6.84824468e+04,\n         1.02706985e+05,   1.54043792e+05,   2.31049003e+05,\n         3.46556820e+05,   5.19818545e+05,   7.79711132e+05,\n         1.16955001e+06,   1.75430833e+06,   2.63144582e+06,\n         3.94715204e+06,   5.92071137e+06,   8.88105037e+06,\n         1.33215589e+07,   1.99823216e+07,   2.99734658e+07,\n         4.49601819e+07,   6.74402562e+07,   1.01160368e+08,\n         1.51740535e+08,   2.27610786e+08,   3.41416162e+08,\n         5.12124226e+08,   7.68186322e+08,   1.15227947e+09,\n         1.72841918e+09,   2.59262876e+09,   3.88894312e+09,\n         5.83341466e+09,   8.75012198e+09,   1.31251829e+10,\n         1.96877744e+10,   2.95316616e+10,   4.42974924e+10,\n         6.64462385e+10,   9.96693578e+10,   1.49504037e+11,\n         2.24256055e+11,   3.36384082e+11,   5.04576124e+11,\n         7.56864186e+11,   1.13529628e+12,   1.70294442e+12,\n         2.55441663e+12,   3.83162494e+12,   5.74743741e+12,\n         8.62115611e+12,   1.29317342e+13,   1.93976013e+13,\n         2.90964019e+13,   4.36446028e+13,   6.54669042e+13,\n         9.82003564e+13,   1.47300535e+14,   2.20950802e+14,\n         3.31426203e+14,   4.97139304e+14,   7.45708956e+14,\n         1.11856343e+15,   1.67784515e+15,   2.51676773e+15,\n         3.77515159e+15,   5.66272738e+15,   8.49409108e+15,\n         1.27411366e+16,   1.91117049e+16,   2.86675574e+16,\n         4.30013361e+16,   6.45020041e+16,   9.67530062e+16,\n         1.45129509e+17,   2.17694264e+17,   3.26541396e+17,\n         4.89812094e+17,   7.34718141e+17,   1.10207721e+18,\n         1.65311582e+18,   2.47967372e+18,   3.71951059e+18]))"
     ]
    }
   ],
   "source": [
    "fixed_point(lambda t: time_of_death(t)+t, 1)"
   ]
  },
  {
   "cell_type": "code",
   "execution_count": 29,
   "metadata": {
    "autoscroll": "json-false",
    "collapsed": false,
    "ein.tags": [
     "worksheet-0"
    ]
   },
   "outputs": [],
   "source": [
    "def plot_convergence(result):\n",
    "    errors = np.abs(result.result - result.iteration_list)\n",
    "    changes = np.array([errors[i]/errors[i-1] for i in range(1, len(errors))])\n",
    "    x = range(0, len(changes))\n",
    "    plt.scatter(x, changes)\n",
    "    print(changes)\n",
    "    plt.xlabel(\"iterations\")\n",
    "    plt.ylabel(\"$e_n / e_{n-1}$\")\n",
    "    #plt.plot(x, np.poly1d(np.polyfit(x, changes, 1))(x))\n",
    "    plt.show()\n",
    "    \n",
    "def plot_quadratic_convergence(result):\n",
    "    errors = np.abs(result.result - result.iteration_list)\n",
    "    changes = np.array([errors[i]/(errors[i-1]**2) for i in range(1, len(errors))])\n",
    "    x = range(0, len(changes))\n",
    "    plt.scatter(x, changes)\n",
    "    print(changes)\n",
    "    plt.xlabel(\"iterations (N)\")\n",
    "    plt.ylabel(\"$e_n / e_{n-1}^2$\")\n",
    "    #plt.plot(x, np.poly1d(np.polyfit(x, changes, 1))(x))\n",
    "    plt.show()"
   ]
  },
  {
   "cell_type": "code",
   "execution_count": 30,
   "metadata": {
    "autoscroll": "json-false",
    "collapsed": false,
    "ein.tags": [
     "worksheet-0"
    ]
   },
   "outputs": [
    {
     "name": "stdout",
     "output_type": "stream",
     "text": [
      "[  3.17866971e-01   7.29850733e-02   6.35071587e+00   4.21268718e-01\n",
      "   3.13109119e-01   9.68873753e-02   4.66063108e+00   3.92718391e-01\n",
      "   2.26823059e-01   7.04361420e-01   2.09862843e-01   1.88250847e+00\n",
      "   2.34396945e-01   6.33133603e-01   2.89722735e-01   1.22578794e+00\n",
      "   9.20991019e-02   3.92893459e+00   3.72739037e-01   1.58578924e-01\n",
      "   1.65300412e+00   1.97520414e-01   1.03138391e+00   1.52144676e-02\n",
      "   3.13634568e+01   4.84057880e-01   4.67065673e-01   4.29486733e-01\n",
      "   3.35819685e-01   1.11057460e-02   4.35217391e+01   4.88511489e-01\n",
      "   4.76482618e-01   4.50643777e-01   3.90476190e-01   2.19512195e-01\n",
      "   7.77777778e-01   1.42857143e-01   3.00000000e+00   3.33333333e-01\n",
      "   0.00000000e+00]\n"
     ]
    }
   ],
   "source": [
    "result = bisection(time_of_death, -2,3)\n",
    "plt.ylim(-1,2)\n",
    "plot_convergence(result)\n",
    "plt.show()"
   ]
  },
  {
   "cell_type": "code",
   "execution_count": 31,
   "metadata": {
    "collapsed": false
   },
   "outputs": [
    {
     "name": "stdout",
     "output_type": "stream",
     "text": [
      "FixedPointResult(result=-1.3324871338231254, iterations=14, iteration_list=array([-1.74665623, -1.37247347, -1.33636841, -1.33286407, -1.33252374,\n",
      "       -1.33249069, -1.33248748, -1.33248717, -1.33248714, -1.33248713,\n",
      "       -1.33248713, -1.33248713, -1.33248713, -1.33248713]))\n",
      "[ 0.09654592  0.09706499  0.09711547  0.09712038  0.09712085  0.09712089\n",
      "  0.09712083  0.09712015  0.09711312  0.09704005  0.09630187  0.08864183\n",
      "  0.        ]\n"
     ]
    }
   ],
   "source": [
    "# Fixed point\n",
    "# Just adding +t to both sides doesn't converge, but this does\n",
    "def best_fixed_g(t):\n",
    "    return np.log(1+(5-0.5*t)/(10+(1/(2*k))))/(-k)\n",
    "\n",
    "result = fixed_point(best_fixed_g, -100)\n",
    "print(result)\n",
    "plt.ylim(0,0.5)\n",
    "plot_convergence(result)"
   ]
  },
  {
   "cell_type": "code",
   "execution_count": null,
   "metadata": {
    "collapsed": false
   },
   "outputs": [
    {
     "name": "stdout",
     "output_type": "stream",
     "text": [
      "3.552713678800501e-15\n",
      "FixedPointResult(result=-1.3324871338230981, iterations=8, iteration_list=array([-5.35953736, -3.06036045, -1.7317157 , -1.35737221, -1.33258855,\n",
      "       -1.33248714, -1.33248713, -1.33248713]))\n",
      "[  4.29066740e-01   2.31051990e-01   6.23328948e-02   4.07558159e-03\n",
      "   1.66642205e-05   9.19654636e-07   0.00000000e+00]\n",
      "[  1.06546161e-01   1.33720446e-01   1.56133353e-01   1.63776160e-01\n",
      "   1.64307166e-01   5.44140765e+02   0.00000000e+00]"
     ]
    }
   ],
   "source": [
    "# Newton\n",
    "result = newton(time_of_death, derivative_of_death, 3)\n",
    "print(time_of_death(result.result))\n",
    "print(result)\n",
    "#plt.ylim(0,0.5)\n",
    "plot_convergence(result)\n",
    "plt.ylim(0,1)\n",
    "plot_quadratic_convergence(result)"
   ]
  },
  {
   "cell_type": "code",
   "execution_count": 33,
   "metadata": {
    "collapsed": false
   },
   "outputs": [],
   "source": [
    "def plot_iterations(expected, tol, x, f, **kwargs):\n",
    "    y = []\n",
    "    for start in x:\n",
    "        try:\n",
    "            result = f(start)\n",
    "            if np.abs(result.result - expected) < tol:\n",
    "                y.append(result.iterations)\n",
    "            else:\n",
    "                y.append(np.nan)\n",
    "        except ValueError as e:\n",
    "            y.append(np.nan)\n",
    "        except DoesNotConvergeError as e:\n",
    "            y.append(np.nan)\n",
    "    plt.scatter(x,y, **kwargs)"
   ]
  },
  {
   "cell_type": "code",
   "execution_count": 34,
   "metadata": {
    "collapsed": false
   },
   "outputs": [
    {
     "name": "stderr",
     "output_type": "stream",
     "text": [
      "C:\\Anaconda3\\lib\\site-packages\\ipykernel\\__main__.py:4: RuntimeWarning: invalid value encountered in log\n",
      "C:\\Anaconda3\\lib\\site-packages\\ipykernel\\__main__.py:3: RuntimeWarning: overflow encountered in double_scalars\n",
      "  app.launch_new_instance()\n",
      "C:\\Anaconda3\\lib\\site-packages\\ipykernel\\__main__.py:4: RuntimeWarning: overflow encountered in double_scalars\n",
      "C:\\Anaconda3\\lib\\site-packages\\ipykernel\\__main__.py:13: RuntimeWarning: invalid value encountered in double_scalars\n"
     ]
    }
   ],
   "source": [
    "# Comparing the convergence rate of the different methods. \n",
    "x = np.linspace(-100, 100, 1000)\n",
    "expected = -1.332487133\n",
    "tol = 0.0001\n",
    "#plt.plot(x, time_of_death(x))\n",
    "#plt.plot(x, derivative_of_death(x))\n",
    "plt.xlabel(\"starting guess (x)\")\n",
    "plt.ylabel(\"number of iterations\")\n",
    "plot_iterations(expected, tol, x, lambda start: fixed_point(best_fixed_g, start),color='r')\n",
    "plot_iterations(expected, tol, x, lambda start: newton(time_of_death, derivative_of_death, start),color='b')\n",
    "plt.show()\n",
    "x = np.linspace(0, 5, 1000)\n",
    "plt.xlabel(\"size of initial interval\")\n",
    "plt.ylabel(\"number of iterations\")\n",
    "plot_iterations(expected, tol, x, lambda start: bisection(time_of_death, expected-start/2, expected+start/2),color='g')\n",
    "plt.show()\n",
    "\n",
    "# Analysis: Fixed point converges for all (?) negative values, but stops converging at just over x=30\n",
    "# Newton's method converges for values under ~6, but is slower than fixed point for values under -30ish.\n",
    "# near the correct answer, newton is significantly faster\n",
    "# Bisection plot shows nothing interesting, since we already know how many iterations valid inputs will require to get a given tolerance"
   ]
  },
  {
   "cell_type": "code",
   "execution_count": null,
   "metadata": {
    "collapsed": false
   },
   "outputs": [],
   "source": [
    "from scipy.optimize import fsolve\n",
    "\n",
    "result, infodict, ier, mesg = fsolve(time_of_death, 3, full_output=True)\n",
    "print(result)\n",
    "print(infodict)\n",
    "#plt.ylim(0,0.5)\n",
    "#errors = np.abs(result.result - result.iteration_list)\n",
    "#changes = np.array([errors[i]/errors[i-1] for i in range(1, len(errors))])\n",
    "#x = range(0, len(changes))\n",
    "#plt.scatter(x, changes)\n",
    "#print(changes)\n",
    "#plt.plot(x, np.poly1d(np.polyfit(x, changes, 1))(x))\n",
    "#plt.show()"
   ]
  },
  {
   "cell_type": "code",
   "execution_count": null,
   "metadata": {
    "collapsed": false
   },
   "outputs": [],
   "source": [
    "axvline"
   ]
  }
 ],
 "metadata": {
  "kernelspec": {
   "display_name": "Python 3",
   "language": "python",
   "name": "python3"
  },
  "language_info": {
   "codemirror_mode": {
    "name": "ipython",
    "version": 3
   },
   "file_extension": ".py",
   "mimetype": "text/x-python",
   "name": "python",
   "nbconvert_exporter": "python",
   "pygments_lexer": "ipython3",
   "version": "3.5.1"
  },
  "name": "Untitled.ipynb"
 },
 "nbformat": 4,
 "nbformat_minor": 0
}
