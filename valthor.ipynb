{
 "cells": [
  {
   "cell_type": "code",
   "execution_count": 1,
   "metadata": {
    "autoscroll": "json-false",
    "collapsed": false,
    "ein.tags": [
     "worksheet-0"
    ]
   },
   "outputs": [],
   "source": [
    "import matplotlib.pyplot as plt\n",
    "import numpy as np\n",
    "from collections import namedtuple\n",
    "plt.style.use('ggplot')"
   ]
  },
  {
   "cell_type": "code",
   "execution_count": 2,
   "metadata": {
    "collapsed": true
   },
   "outputs": [],
   "source": [
    "class DoesNotConvergeError(Exception):\n",
    "    def __init__(self, result):\n",
    "        self.result = result\n",
    "        super(Exception, self).__init__(\"{}\".format(result))"
   ]
  },
  {
   "cell_type": "code",
   "execution_count": 111,
   "metadata": {
    "autoscroll": "json-false",
    "collapsed": false,
    "ein.tags": [
     "worksheet-0"
    ]
   },
   "outputs": [],
   "source": [
    "BisectionResult = namedtuple('BisectionResult', ['result', 'possible_error', 'res','iterations', 'iteration_list'])\n",
    "def bisection(f, a, b, max_iterations=200, tol=1e-12):\n",
    "    \"\"\"\n",
    "    Given a continuous function f(x) which crosses the x axis in the interval between a and b,\n",
    "    this function searches for the intersection by iteratively halving the search space.\n",
    "    f(a) and f(b) must have opposing signs.\n",
    "    \n",
    "    Returns a named tuple containing the resulting x coordinate, the maximum possible error,\n",
    "    the residual, the number of iterations done, and the list of intermediate results for each iteration.\n",
    "    \"\"\"\n",
    "    if f(a)*f(b) > 0: raise ValueError(\"f(a) and f(b) must not have the same sign\")\n",
    "    iterations = 0\n",
    "    c = np.nan\n",
    "    iteration_list = []\n",
    "    while ((b - a) / 2) > tol and iterations < max_iterations:\n",
    "        iterations+=1\n",
    "        c = (a+b)/2\n",
    "        iteration_list.append(c)\n",
    "        if f(c)*f(a) > 0:\n",
    "            a=c\n",
    "        elif f(c)*f(b) > 0:\n",
    "            b=c\n",
    "        else: break\n",
    "    possible_error=(b-a)/2\n",
    "    return BisectionResult(c, possible_error, f(c),iterations, np.array(iteration_list))"
   ]
  },
  {
   "cell_type": "code",
   "execution_count": 4,
   "metadata": {
    "autoscroll": "json-false",
    "collapsed": false,
    "ein.tags": [
     "worksheet-0"
    ]
   },
   "outputs": [],
   "source": [
    "#f = lambda k: (10+1/(2*k))*np.e**(-k)-7-1/(2*k)\n",
    "f = lambda k: -(10+1/(2*k))*np.e**(-k)+7+1/(2*k)"
   ]
  },
  {
   "cell_type": "code",
   "execution_count": 112,
   "metadata": {
    "autoscroll": "json-false",
    "collapsed": false,
    "ein.tags": [
     "worksheet-0"
    ]
   },
   "outputs": [
    {
     "name": "stdout",
     "output_type": "stream",
     "text": [
      "BisectionResult(result=0.29599609375, possible_error=0.0004394531249999889, res=-0.005111024075844295, iterations=10, iteration_list=array([ 0.55      ,  0.325     ,  0.2125    ,  0.26875   ,  0.296875  ,\n",
      "        0.2828125 ,  0.28984375,  0.29335937,  0.29511719,  0.29599609]))\n"
     ]
    }
   ],
   "source": [
    "xs = np.linspace(-3,3,1000)\n",
    "ys = f(xs)\n",
    "\n",
    "bisect_result = bisection(f, 0.1,1, max_iterations=10)\n",
    "print(bisect_result)\n",
    "\n",
    "plt.plot((bisect_result.result,bisect_result.result), (-200, 100), label=\"Bisection Result\")\n",
    "plt.plot(xs,ys, label=\"f(k)\")\n",
    "\n",
    "plt.title(\"Bisection\")\n",
    "plt.xlabel(\"k\")\n",
    "plt.ylabel(\"f(k)\")\n",
    "plt.legend()\n",
    "plt.show()"
   ]
  },
  {
   "cell_type": "code",
   "execution_count": 76,
   "metadata": {
    "autoscroll": "json-false",
    "collapsed": false,
    "ein.tags": [
     "worksheet-0"
    ]
   },
   "outputs": [],
   "source": [
    "f_fix = lambda k: k/7*(10+1/(2*k))*np.e**(-k)-1/14"
   ]
  },
  {
   "cell_type": "code",
   "execution_count": 114,
   "metadata": {
    "autoscroll": "json-false",
    "collapsed": false,
    "ein.tags": [
     "worksheet-0"
    ]
   },
   "outputs": [],
   "source": [
    "FixedPointResult = namedtuple('FixedPointResult', ['result', 'iterations', 'iteration_list'])\n",
    "def fixed_point(g, start, tol=1e-12,max_iterations=100):\n",
    "    \"\"\"\n",
    "    Given a function g(x), finds the point g(r) = r by iteratively applying g.\n",
    "    \n",
    "    Not guaranteed to converge.\n",
    "    \n",
    "    Returns a namedtuple containing the resulting r value, the number of iterations taken,\n",
    "    and the list of all intermediate iterations.\n",
    "    \"\"\"\n",
    "    previous = start\n",
    "    current = g(previous)\n",
    "    iterations = 0\n",
    "    iteration_list = [previous, current]\n",
    "    while np.abs(current - previous) > tol:  \n",
    "        iterations += 1\n",
    "        previous = current\n",
    "        current=g(current)\n",
    "        if iterations >= max_iterations or np.isnan(current):\n",
    "            raise DoesNotConvergeError(FixedPointResult(current, iterations, np.array(iteration_list)))\n",
    "        iteration_list.append(current)\n",
    "    return FixedPointResult(current, iterations, np.array(iteration_list))"
   ]
  },
  {
   "cell_type": "code",
   "execution_count": 113,
   "metadata": {
    "autoscroll": "json-false",
    "collapsed": false,
    "ein.tags": [
     "worksheet-0"
    ]
   },
   "outputs": [
    {
     "name": "stdout",
     "output_type": "stream",
     "text": [
      "FixedPointResult(result=0.2967030689533232, iterations=42, iteration_list=array([ 0.40513123,  0.36217449,  0.33848537,  0.32418784,  0.31511516,\n",
      "        0.30918043,  0.30522255,  0.3025494 ,  0.30072861,  0.29948129,\n",
      "        0.29862348,  0.29803197,  0.29762334,  0.29734069,  0.29714501,\n",
      "        0.29700946,  0.29691552,  0.29685039,  0.29680524,  0.29677393,\n",
      "        0.29675221,  0.29673715,  0.29672671,  0.29671946,  0.29671443,\n",
      "        0.29671095,  0.29670853,  0.29670685,  0.29670569,  0.29670488,\n",
      "        0.29670432,  0.29670393,  0.29670366,  0.29670348,  0.29670335,\n",
      "        0.29670326,  0.29670319,  0.29670315,  0.29670312,  0.2967031 ,\n",
      "        0.29670309,  0.29670308,  0.29670307]))\n"
     ]
    }
   ],
   "source": [
    "xs = np.linspace(-0.5,1.5,1000)\n",
    "ys = f_fix(xs)\n",
    "\n",
    "point = fixed_point(f_fix, 0.5, tol=1e-8)\n",
    "print(point)\n",
    "\n",
    "#plt.plot(xs,ys, label=\"f_fix(k)\")\n",
    "#plt.plot(xs,xs, label=\"k\")\n",
    "\n",
    "#plt.plot((point,point), (plt.ylim(0), plt.ylim(1)), label=\"fixed point\")\n",
    "\n",
    "#plt.title(\"Fixed-Point\")\n",
    "#plt.xlabel(\"k\")\n",
    "#plt.ylabel(\"f(x)\")\n",
    "#plt.xlim(0,0.5)\n",
    "#plt.legend()\n",
    "#plt.show()"
   ]
  },
  {
   "cell_type": "code",
   "execution_count": 115,
   "metadata": {
    "autoscroll": "json-false",
    "collapsed": false,
    "ein.tags": [
     "worksheet-0"
    ]
   },
   "outputs": [],
   "source": [
    "def derive(f, h=1e-12):\n",
    "    \"\"\"Given a function f(x), returns a new function f'(x) which\n",
    "    approximates the derivative of f at x\"\"\"\n",
    "    def derived(x):\n",
    "        return (f(x+h)-f(x))/h\n",
    "    return derived\n",
    "\n",
    "NewtonResult = namedtuple('NewtonResult', ['result', 'iterations', 'iteration_list', 'res'])\n",
    "def newton(f, fprime, start, tol=1e-12):\n",
    "    \"\"\"Given a function f(x) and its derivative fprime(x), finds the\n",
    "    point x where f(x)=0.\"\"\"\n",
    "    def g(x):\n",
    "        return x - f(x)/fprime(x)\n",
    "    fp_res = fixed_point(g, start, tol=tol)\n",
    "    return NewtonResult(fp_res.result, fp_res.iterations, fp_res.iteration_list, f(fp_res.result))\n",
    "\n",
    "def secant(f, start, tol=1e-12):\n",
    "    \"\"\"Given a function f(x), finds the point at which f(x)=0 using newton's\n",
    "    method with an approximated derivative.\"\"\"\n",
    "    return newton(f, derive(f), start, tol=tol)"
   ]
  },
  {
   "cell_type": "code",
   "execution_count": 116,
   "metadata": {
    "autoscroll": "json-false",
    "collapsed": false,
    "ein.tags": [
     "worksheet-0"
    ]
   },
   "outputs": [
    {
     "name": "stdout",
     "output_type": "stream",
     "text": [
      "NewtonResult(result=-1.3324871338230977, iterations=4, iteration_list=array([ 0.        , -1.68518659, -1.35202321, -1.33254968, -1.33248713,\n",
      "       -1.33248713]), res=0.0)\n",
      "NewtonResult(result=-1.3324871338230977, iterations=7, iteration_list=array([ 1.        , -2.61174049, -1.56237141, -1.34112883, -1.33250545,\n",
      "       -1.33248713, -1.33248713, -1.33248713, -1.33248713]), res=0.0)\n"
     ]
    }
   ],
   "source": [
    "# Task 6\n",
    "k=0.29670305\n",
    "time_of_death = lambda t: 22 -37 + 0.5*t-1/(2*k) + (10 + 1/(2*k))*np.e**(-k*t)\n",
    "derivative_of_death = lambda t: 0.5 + -k*(10 + 1/(2*k))*np.e**(-k*t)\n",
    "\n",
    "result = newton(time_of_death, derivative_of_death, 0, tol=1e-8)\n",
    "print(result)\n",
    "result = secant(time_of_death, 1)\n",
    "print(result)"
   ]
  },
  {
   "cell_type": "code",
   "execution_count": 83,
   "metadata": {
    "autoscroll": "json-false",
    "collapsed": false,
    "ein.tags": [
     "worksheet-0"
    ]
   },
   "outputs": [],
   "source": [
    "x = np.linspace(-10,5,1000)\n",
    "plt.plot(x, time_of_death(x))\n",
    "plt.show()\n",
    "#plt.plot(x, derivative_of_death(x))\n",
    "#time_of_death(-1.3324)"
   ]
  },
  {
   "cell_type": "code",
   "execution_count": 12,
   "metadata": {
    "autoscroll": "json-false",
    "collapsed": false,
    "ein.tags": [
     "worksheet-0"
    ]
   },
   "outputs": [
    {
     "ename": "DoesNotConvergeError",
     "evalue": "FixedPointResult(result=5.579265880707039e+18, iterations=100, iteration_list=array([  5.39549713e+01,   6.42472717e+01,   7.96857210e+01,\n         1.02843395e+02,   1.37579906e+02,   1.89684672e+02,\n         2.67841822e+02,   3.85077546e+02,   5.60931132e+02,\n         8.24711511e+02,   1.22038208e+03,   1.81388793e+03,\n         2.70414671e+03,   4.03953488e+03,   6.04261714e+03,\n         9.04724052e+03,   1.35541756e+04,   2.03145782e+04,\n         3.04551821e+04,   4.56660880e+04,   6.84824468e+04,\n         1.02706985e+05,   1.54043792e+05,   2.31049003e+05,\n         3.46556820e+05,   5.19818545e+05,   7.79711132e+05,\n         1.16955001e+06,   1.75430833e+06,   2.63144582e+06,\n         3.94715204e+06,   5.92071137e+06,   8.88105037e+06,\n         1.33215589e+07,   1.99823216e+07,   2.99734658e+07,\n         4.49601819e+07,   6.74402562e+07,   1.01160368e+08,\n         1.51740535e+08,   2.27610786e+08,   3.41416162e+08,\n         5.12124226e+08,   7.68186322e+08,   1.15227947e+09,\n         1.72841918e+09,   2.59262876e+09,   3.88894312e+09,\n         5.83341466e+09,   8.75012198e+09,   1.31251829e+10,\n         1.96877744e+10,   2.95316616e+10,   4.42974924e+10,\n         6.64462385e+10,   9.96693578e+10,   1.49504037e+11,\n         2.24256055e+11,   3.36384082e+11,   5.04576124e+11,\n         7.56864186e+11,   1.13529628e+12,   1.70294442e+12,\n         2.55441663e+12,   3.83162494e+12,   5.74743741e+12,\n         8.62115611e+12,   1.29317342e+13,   1.93976013e+13,\n         2.90964019e+13,   4.36446028e+13,   6.54669042e+13,\n         9.82003564e+13,   1.47300535e+14,   2.20950802e+14,\n         3.31426203e+14,   4.97139304e+14,   7.45708956e+14,\n         1.11856343e+15,   1.67784515e+15,   2.51676773e+15,\n         3.77515159e+15,   5.66272738e+15,   8.49409108e+15,\n         1.27411366e+16,   1.91117049e+16,   2.86675574e+16,\n         4.30013361e+16,   6.45020041e+16,   9.67530062e+16,\n         1.45129509e+17,   2.17694264e+17,   3.26541396e+17,\n         4.89812094e+17,   7.34718141e+17,   1.10207721e+18,\n         1.65311582e+18,   2.47967372e+18,   3.71951059e+18]))",
     "output_type": "error",
     "traceback": [
      "\u001b[1;31m---------------------------------------------------------------------------\u001b[0m",
      "\u001b[1;31mDoesNotConvergeError\u001b[0m                      Traceback (most recent call last)",
      "\u001b[1;32m<ipython-input-12-6efe5dd0f810>\u001b[0m in \u001b[0;36m<module>\u001b[1;34m()\u001b[0m\n\u001b[1;32m----> 1\u001b[1;33m \u001b[0mfixed_point\u001b[0m\u001b[1;33m(\u001b[0m\u001b[1;32mlambda\u001b[0m \u001b[0mt\u001b[0m\u001b[1;33m:\u001b[0m \u001b[0mtime_of_death\u001b[0m\u001b[1;33m(\u001b[0m\u001b[0mt\u001b[0m\u001b[1;33m)\u001b[0m\u001b[1;33m+\u001b[0m\u001b[0mt\u001b[0m\u001b[1;33m,\u001b[0m \u001b[1;36m1\u001b[0m\u001b[1;33m)\u001b[0m\u001b[1;33m\u001b[0m\u001b[0m\n\u001b[0m",
      "\u001b[1;32m<ipython-input-7-d84d559d1a5d>\u001b[0m in \u001b[0;36mfixed_point\u001b[1;34m(g, start, tol, max_iterations)\u001b[0m\n\u001b[0;32m     18\u001b[0m         \u001b[0mcurrent\u001b[0m\u001b[1;33m=\u001b[0m\u001b[0mg\u001b[0m\u001b[1;33m(\u001b[0m\u001b[0mcurrent\u001b[0m\u001b[1;33m)\u001b[0m\u001b[1;33m\u001b[0m\u001b[0m\n\u001b[0;32m     19\u001b[0m         \u001b[1;32mif\u001b[0m \u001b[0miterations\u001b[0m \u001b[1;33m>=\u001b[0m \u001b[0mmax_iterations\u001b[0m \u001b[1;32mor\u001b[0m \u001b[0mnp\u001b[0m\u001b[1;33m.\u001b[0m\u001b[0misnan\u001b[0m\u001b[1;33m(\u001b[0m\u001b[0mcurrent\u001b[0m\u001b[1;33m)\u001b[0m\u001b[1;33m:\u001b[0m\u001b[1;33m\u001b[0m\u001b[0m\n\u001b[1;32m---> 20\u001b[1;33m             \u001b[1;32mraise\u001b[0m \u001b[0mDoesNotConvergeError\u001b[0m\u001b[1;33m(\u001b[0m\u001b[0mFixedPointResult\u001b[0m\u001b[1;33m(\u001b[0m\u001b[0mcurrent\u001b[0m\u001b[1;33m,\u001b[0m \u001b[0miterations\u001b[0m\u001b[1;33m,\u001b[0m \u001b[0mnp\u001b[0m\u001b[1;33m.\u001b[0m\u001b[0marray\u001b[0m\u001b[1;33m(\u001b[0m\u001b[0miteration_list\u001b[0m\u001b[1;33m)\u001b[0m\u001b[1;33m)\u001b[0m\u001b[1;33m)\u001b[0m\u001b[1;33m\u001b[0m\u001b[0m\n\u001b[0m\u001b[0;32m     21\u001b[0m         \u001b[0miteration_list\u001b[0m\u001b[1;33m.\u001b[0m\u001b[0mappend\u001b[0m\u001b[1;33m(\u001b[0m\u001b[0mcurrent\u001b[0m\u001b[1;33m)\u001b[0m\u001b[1;33m\u001b[0m\u001b[0m\n\u001b[0;32m     22\u001b[0m     \u001b[1;32mreturn\u001b[0m \u001b[0mFixedPointResult\u001b[0m\u001b[1;33m(\u001b[0m\u001b[0mcurrent\u001b[0m\u001b[1;33m,\u001b[0m \u001b[0miterations\u001b[0m\u001b[1;33m,\u001b[0m \u001b[0mnp\u001b[0m\u001b[1;33m.\u001b[0m\u001b[0marray\u001b[0m\u001b[1;33m(\u001b[0m\u001b[0miteration_list\u001b[0m\u001b[1;33m)\u001b[0m\u001b[1;33m)\u001b[0m\u001b[1;33m\u001b[0m\u001b[0m\n",
      "\u001b[1;31mDoesNotConvergeError\u001b[0m: FixedPointResult(result=5.579265880707039e+18, iterations=100, iteration_list=array([  5.39549713e+01,   6.42472717e+01,   7.96857210e+01,\n         1.02843395e+02,   1.37579906e+02,   1.89684672e+02,\n         2.67841822e+02,   3.85077546e+02,   5.60931132e+02,\n         8.24711511e+02,   1.22038208e+03,   1.81388793e+03,\n         2.70414671e+03,   4.03953488e+03,   6.04261714e+03,\n         9.04724052e+03,   1.35541756e+04,   2.03145782e+04,\n         3.04551821e+04,   4.56660880e+04,   6.84824468e+04,\n         1.02706985e+05,   1.54043792e+05,   2.31049003e+05,\n         3.46556820e+05,   5.19818545e+05,   7.79711132e+05,\n         1.16955001e+06,   1.75430833e+06,   2.63144582e+06,\n         3.94715204e+06,   5.92071137e+06,   8.88105037e+06,\n         1.33215589e+07,   1.99823216e+07,   2.99734658e+07,\n         4.49601819e+07,   6.74402562e+07,   1.01160368e+08,\n         1.51740535e+08,   2.27610786e+08,   3.41416162e+08,\n         5.12124226e+08,   7.68186322e+08,   1.15227947e+09,\n         1.72841918e+09,   2.59262876e+09,   3.88894312e+09,\n         5.83341466e+09,   8.75012198e+09,   1.31251829e+10,\n         1.96877744e+10,   2.95316616e+10,   4.42974924e+10,\n         6.64462385e+10,   9.96693578e+10,   1.49504037e+11,\n         2.24256055e+11,   3.36384082e+11,   5.04576124e+11,\n         7.56864186e+11,   1.13529628e+12,   1.70294442e+12,\n         2.55441663e+12,   3.83162494e+12,   5.74743741e+12,\n         8.62115611e+12,   1.29317342e+13,   1.93976013e+13,\n         2.90964019e+13,   4.36446028e+13,   6.54669042e+13,\n         9.82003564e+13,   1.47300535e+14,   2.20950802e+14,\n         3.31426203e+14,   4.97139304e+14,   7.45708956e+14,\n         1.11856343e+15,   1.67784515e+15,   2.51676773e+15,\n         3.77515159e+15,   5.66272738e+15,   8.49409108e+15,\n         1.27411366e+16,   1.91117049e+16,   2.86675574e+16,\n         4.30013361e+16,   6.45020041e+16,   9.67530062e+16,\n         1.45129509e+17,   2.17694264e+17,   3.26541396e+17,\n         4.89812094e+17,   7.34718141e+17,   1.10207721e+18,\n         1.65311582e+18,   2.47967372e+18,   3.71951059e+18]))"
     ]
    }
   ],
   "source": [
    "fixed_point(lambda t: time_of_death(t)+t, 1)"
   ]
  },
  {
   "cell_type": "code",
   "execution_count": 117,
   "metadata": {
    "autoscroll": "json-false",
    "collapsed": false,
    "ein.tags": [
     "worksheet-0"
    ]
   },
   "outputs": [],
   "source": [
    "def plot_convergence(result):\n",
    "    errors = np.abs(result.result - result.iteration_list)\n",
    "    changes = np.array([errors[i]/errors[i-1] for i in range(1, len(errors))])\n",
    "    x = range(0, len(changes))\n",
    "    plt.scatter(x, changes)\n",
    "    print(sum(changes)/len(changes))\n",
    "    print(changes)\n",
    "    plt.xlabel(\"iterations\")\n",
    "    plt.ylabel(\"$e_n / e_{n-1}$\")\n",
    "    #plt.plot(x, np.poly1d(np.polyfit(x, changes, 1))(x))\n",
    "    plt.show()\n",
    "    \n",
    "def plot_quadratic_convergence(result):\n",
    "    errors = np.abs(result.result - result.iteration_list)\n",
    "    changes = np.array([errors[i]/(errors[i-1]**2) for i in range(1, len(errors))])\n",
    "    x = range(0, len(changes))\n",
    "    plt.scatter(x, changes)\n",
    "    print(changes)\n",
    "    plt.xlabel(\"iterations (N)\")\n",
    "    plt.ylabel(\"$e_n / e_{n-1}^2$\")\n",
    "    #plt.plot(x, np.poly1d(np.polyfit(x, changes, 1))(x))\n",
    "    plt.show()"
   ]
  },
  {
   "cell_type": "code",
   "execution_count": 118,
   "metadata": {
    "autoscroll": "json-false",
    "collapsed": false,
    "ein.tags": [
     "worksheet-0"
    ]
   },
   "outputs": [
    {
     "name": "stdout",
     "output_type": "stream",
     "text": [
      "BisectionResult(result=-1.3324871212244034, possible_error=7.450580596923828e-09, res=-5.856152895944433e-08, iterations=26, iteration_list=array([-1.5       , -1.25      , -1.375     , -1.3125    , -1.34375   ,\n",
      "       -1.328125  , -1.3359375 , -1.33203125, -1.33398438, -1.33300781,\n",
      "       -1.33251953, -1.33227539, -1.33239746, -1.3324585 , -1.33248901,\n",
      "       -1.33247375, -1.33248138, -1.3324852 , -1.33248711, -1.33248806,\n",
      "       -1.33248758, -1.33248734, -1.33248723, -1.33248717, -1.33248714,\n",
      "       -1.33248712]))\n",
      "3.49709964307\n",
      "[  4.92422564e-01   5.15388077e-01   4.70142738e-01   5.63506803e-01\n",
      "   3.87300735e-01   7.90986449e-01   1.32122081e-01   3.28437878e+00\n",
      "   3.47764209e-01   6.22442263e-02   6.53287356e+00   4.23464002e-01\n",
      "   3.19262091e-01   6.61114003e-02   7.06299213e+00   4.29208473e-01\n",
      "   3.35064935e-01   7.75193798e-03   6.30000000e+01   4.92063492e-01\n",
      "   4.83870968e-01   4.66666667e-01   4.28571429e-01   3.33333333e-01\n",
      "   0.00000000e+00]\n"
     ]
    }
   ],
   "source": [
    "result = bisection(time_of_death, -2, -1, max_iterations=26)\n",
    "print(result)\n",
    "plt.ylim(-1,2)\n",
    "plot_convergence(result)\n",
    "plt.show()"
   ]
  },
  {
   "cell_type": "code",
   "execution_count": 130,
   "metadata": {
    "collapsed": false
   },
   "outputs": [
    {
     "name": "stdout",
     "output_type": "stream",
     "text": [
      "FixedPointResult(result=nan, iterations=0, iteration_list=array([ 40.,  nan]))\n",
      "nan\n",
      "[ nan]\n"
     ]
    },
    {
     "name": "stderr",
     "output_type": "stream",
     "text": [
      "C:\\Anaconda3\\lib\\site-packages\\ipykernel\\__main__.py:4: RuntimeWarning: invalid value encountered in log\n"
     ]
    }
   ],
   "source": [
    "# Fixed point\n",
    "# Just adding +t to both sides doesn't converge, but this does\n",
    "def best_fixed_g(t):\n",
    "    return np.log(1+(5-0.5*t)/(10+(1/(2*k))))/(-k)\n",
    "\n",
    "result = fixed_point(best_fixed_g, 40)\n",
    "print(result)\n",
    "plt.ylim(0,0.5)\n",
    "plot_convergence(result)"
   ]
  },
  {
   "cell_type": "code",
   "execution_count": 122,
   "metadata": {
    "collapsed": false
   },
   "outputs": [
    {
     "name": "stdout",
     "output_type": "stream",
     "text": [
      "0.0\n",
      "NewtonResult(result=-1.3324871338230977, iterations=5, iteration_list=array([ 0.        , -1.68518659, -1.35202321, -1.33254968, -1.33248713,\n",
      "       -1.33248713, -1.33248713]), res=0.0)\n",
      "nan"
     ]
    },
    {
     "name": "stderr",
     "output_type": "stream",
     "text": [
      "C:\\Anaconda3\\lib\\site-packages\\ipykernel\\__main__.py:3: RuntimeWarning: invalid value encountered in double_scalars\n",
      "  app.launch_new_instance()\n",
      "C:\\Anaconda3\\lib\\site-packages\\ipykernel\\__main__.py:15: RuntimeWarning: invalid value encountered in double_scalars\n"
     ]
    },
    {
     "name": "stdout",
     "output_type": "stream",
     "text": [
      "\n",
      "[  2.64692576e-01   5.53901458e-02   3.20177700e-03   1.02774878e-05\n",
      "   0.00000000e+00              nan]\n",
      "[ 0.1986455   0.15704631  0.1638905   0.16430796  0.                 nan]\n"
     ]
    }
   ],
   "source": [
    "# Newton\n",
    "result = newton(time_of_death, derivative_of_death, 0)\n",
    "print(time_of_death(result.result))\n",
    "print(result)\n",
    "#plt.ylim(0,0.5)\n",
    "plot_convergence(result)\n",
    "plt.ylim(0,1)\n",
    "plot_quadratic_convergence(result)"
   ]
  },
  {
   "cell_type": "code",
   "execution_count": 50,
   "metadata": {
    "collapsed": false
   },
   "outputs": [],
   "source": [
    "def plot_iterations(expected, tol, x, f, **kwargs):\n",
    "    y = []\n",
    "    for start in x:\n",
    "        try:\n",
    "            result = f(start)\n",
    "            if np.abs(result.result - expected) < tol:\n",
    "                y.append(result.iterations)\n",
    "            else:\n",
    "                y.append(np.nan)\n",
    "        except ValueError as e:\n",
    "            y.append(np.nan)\n",
    "        except DoesNotConvergeError as e:\n",
    "            y.append(np.nan)\n",
    "    plt.scatter(x,y, **kwargs)"
   ]
  },
  {
   "cell_type": "code",
   "execution_count": 128,
   "metadata": {
    "collapsed": false
   },
   "outputs": [
    {
     "name": "stderr",
     "output_type": "stream",
     "text": [
      "C:\\Anaconda3\\lib\\site-packages\\ipykernel\\__main__.py:4: RuntimeWarning: invalid value encountered in log\n",
      "C:\\Anaconda3\\lib\\site-packages\\ipykernel\\__main__.py:3: RuntimeWarning: overflow encountered in double_scalars\n",
      "  app.launch_new_instance()\n",
      "C:\\Anaconda3\\lib\\site-packages\\ipykernel\\__main__.py:4: RuntimeWarning: overflow encountered in double_scalars\n",
      "C:\\Anaconda3\\lib\\site-packages\\ipykernel\\__main__.py:13: RuntimeWarning: invalid value encountered in double_scalars\n"
     ]
    }
   ],
   "source": [
    "# Comparing the convergence rate of the different methods. \n",
    "x = np.linspace(-100, 100, 10000)\n",
    "expected = -1.332487133\n",
    "tol = 0.0001\n",
    "#plt.plot(x, time_of_death(x))\n",
    "#plt.plot(x, derivative_of_death(x))\n",
    "plt.xlabel(\"starting guess (x)\")\n",
    "plt.ylabel(\"number of iterations\")\n",
    "plt.xlim(x[0], x[-1])\n",
    "plot_iterations(expected, tol, x, lambda start: fixed_point(best_fixed_g, start, tol=1e-8),color='r', label='fixed point')\n",
    "plot_iterations(expected, tol, x, lambda start: newton(time_of_death, derivative_of_death, start, tol=1e-8),color='b', label='newton-raphson')\n",
    "plt.legend()\n",
    "plt.show()\n",
    "x = np.linspace(0, 5, 1000)\n",
    "plt.xlabel(\"size of initial interval\")\n",
    "plt.ylabel(\"number of iterations\")\n",
    "plot_iterations(expected, tol, x, lambda start: bisection(time_of_death, expected-start/2, expected+start/2),color='g')\n",
    "plt.show()\n",
    "\n",
    "# Analysis: Fixed point converges for all (?) negative values, but stops converging at just over x=30\n",
    "# Newton's method converges for values under ~6, but is slower than fixed point for values under -30ish.\n",
    "# near the correct answer, newton is significantly faster\n",
    "# Bisection plot shows nothing interesting, since we already know how many iterations valid inputs will require to get a given tolerance"
   ]
  },
  {
   "cell_type": "code",
   "execution_count": 44,
   "metadata": {
    "collapsed": false
   },
   "outputs": [
    {
     "name": "stderr",
     "output_type": "stream",
     "text": [
      "C:\\Anaconda3\\lib\\site-packages\\ipykernel\\__main__.py:1: RuntimeWarning: overflow encountered in double_scalars\n",
      "  if __name__ == '__main__':\n",
      "C:\\Anaconda3\\lib\\site-packages\\ipykernel\\__main__.py:15: RuntimeWarning: invalid value encountered in double_scalars\n"
     ]
    }
   ],
   "source": [
    "x = np.linspace(-100, 100, 1000)\n",
    "expected = 0.296\n",
    "tol = 0.01\n",
    "#plt.plot(x, time_of_death(x))\n",
    "#plt.plot(x, derivative_of_death(x))\n",
    "plt.xlabel(\"starting guess (x)\")\n",
    "plt.ylabel(\"number of iterations\")\n",
    "plot_iterations(expected, tol, x, lambda start: fixed_point(f_fix, start, tol=1e-8),color='r')\n",
    "#plot_iterations(expected, tol, x, lambda start: newton(time_of_death, derivative_of_death, start),color='b')\n",
    "plt.show()\n"
   ]
  },
  {
   "cell_type": "code",
   "execution_count": null,
   "metadata": {
    "collapsed": false
   },
   "outputs": [],
   "source": [
    "from scipy.optimize import fsolve\n",
    "\n",
    "result, infodict, ier, mesg = fsolve(time_of_death, 3, full_output=True)\n",
    "print(result)\n",
    "print(infodict)\n",
    "#plt.ylim(0,0.5)\n",
    "#errors = np.abs(result.result - result.iteration_list)\n",
    "#changes = np.array([errors[i]/errors[i-1] for i in range(1, len(errors))])\n",
    "#x = range(0, len(changes))\n",
    "#plt.scatter(x, changes)\n",
    "#print(changes)\n",
    "#plt.plot(x, np.poly1d(np.polyfit(x, changes, 1))(x))\n",
    "#plt.show()"
   ]
  },
  {
   "cell_type": "code",
   "execution_count": null,
   "metadata": {
    "collapsed": false
   },
   "outputs": [],
   "source": [
    "axvline"
   ]
  }
 ],
 "metadata": {
  "kernelspec": {
   "display_name": "Python 3",
   "language": "python",
   "name": "python3"
  },
  "language_info": {
   "codemirror_mode": {
    "name": "ipython",
    "version": 3
   },
   "file_extension": ".py",
   "mimetype": "text/x-python",
   "name": "python",
   "nbconvert_exporter": "python",
   "pygments_lexer": "ipython3",
   "version": "3.5.1"
  },
  "name": "Untitled.ipynb"
 },
 "nbformat": 4,
 "nbformat_minor": 0
}
