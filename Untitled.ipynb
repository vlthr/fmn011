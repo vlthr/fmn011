{
 "cells": [
  {
   "cell_type": "code",
   "execution_count": 3,
   "metadata": {
    "collapsed": false
   },
   "outputs": [],
   "source": [
    "%matplotlib inline\n",
    "import matplotlib.pyplot as plt\n",
    "import numpy as np\n",
    "from collections import namedtuple\n",
    "plt.style.use('ggplot')\n"
   ]
  },
  {
   "cell_type": "code",
   "execution_count": 5,
   "metadata": {
    "collapsed": false
   },
   "outputs": [
    {
     "name": "stdout",
     "output_type": "stream",
     "text": [
      "from builtins import property as _property, tuple as _tuple\n",
      "from operator import itemgetter as _itemgetter\n",
      "from collections import OrderedDict\n",
      "\n",
      "class BisectionResult(tuple):\n",
      "    'BisectionResult(result, possible_error, res)'\n",
      "\n",
      "    __slots__ = ()\n",
      "\n",
      "    _fields = ('result', 'possible_error', 'res')\n",
      "\n",
      "    def __new__(_cls, result, possible_error, res):\n",
      "        'Create new instance of BisectionResult(result, possible_error, res)'\n",
      "        return _tuple.__new__(_cls, (result, possible_error, res))\n",
      "\n",
      "    @classmethod\n",
      "    def _make(cls, iterable, new=tuple.__new__, len=len):\n",
      "        'Make a new BisectionResult object from a sequence or iterable'\n",
      "        result = new(cls, iterable)\n",
      "        if len(result) != 3:\n",
      "            raise TypeError('Expected 3 arguments, got %d' % len(result))\n",
      "        return result\n",
      "\n",
      "    def _replace(_self, **kwds):\n",
      "        'Return a new BisectionResult object replacing specified fields with new values'\n",
      "        result = _self._make(map(kwds.pop, ('result', 'possible_error', 'res'), _self))\n",
      "        if kwds:\n",
      "            raise ValueError('Got unexpected field names: %r' % list(kwds))\n",
      "        return result\n",
      "\n",
      "    def __repr__(self):\n",
      "        'Return a nicely formatted representation string'\n",
      "        return self.__class__.__name__ + '(result=%r, possible_error=%r, res=%r)' % self\n",
      "\n",
      "    def _asdict(self):\n",
      "        'Return a new OrderedDict which maps field names to their values.'\n",
      "        return OrderedDict(zip(self._fields, self))\n",
      "\n",
      "    def __getnewargs__(self):\n",
      "        'Return self as a plain tuple.  Used by copy and pickle.'\n",
      "        return tuple(self)\n",
      "\n",
      "    result = _property(_itemgetter(0), doc='Alias for field number 0')\n",
      "\n",
      "    possible_error = _property(_itemgetter(1), doc='Alias for field number 1')\n",
      "\n",
      "    res = _property(_itemgetter(2), doc='Alias for field number 2')\n",
      "\n",
      "\n"
     ]
    }
   ],
   "source": [
    "BisectionResult = namedtuple('BisectionResult', ['result', 'possible_error', 'res'], verbose=True)\n",
    "def bisection(f, left, right, max_iterations=200, tol=1e-12):\n",
    "    iterations = 0\n",
    "    new = None\n",
    "    while ((right - left) / 2) > tol and iterations < max_iterations:\n",
    "        iterations+=1\n",
    "        new = (left+right)/2\n",
    "        if f(new)*f(left) > 0:\n",
    "            left=new\n",
    "        elif f(new)*f(right) > 0:\n",
    "            right=new\n",
    "        else: break\n",
    "    print(iterations)\n",
    "    print(new)\n",
    "    possible_error=(right-left)/2\n",
    "    return BisectionResult(new, possible_error, f(new))"
   ]
  },
  {
   "cell_type": "code",
   "execution_count": 6,
   "metadata": {
    "collapsed": false
   },
   "outputs": [],
   "source": [
    "#f = lambda k: (10+1/(2*k))*np.e**(-k)-7-1/(2*k)\n",
    "f = lambda k: -(10+1/(2*k))*np.e**(-k)+7+1/(2*k)"
   ]
  },
  {
   "cell_type": "code",
   "execution_count": 7,
   "metadata": {
    "collapsed": false
   },
   "outputs": [
    {
     "name": "stdout",
     "output_type": "stream",
     "text": [
      "41\n",
      "0.29670305321496926\n"
     ]
    },
    {
     "data": {
      "image/png": "[encoded data removed]",
      "text/plain": [
       "<matplotlib.figure.Figure at 0xf80bc32400>"
      ]
     },
     "metadata": {},
     "output_type": "display_data"
    }
   ],
   "source": [
    "xs = np.linspace(-3,3,1000)\n",
    "ys = f(xs)\n",
    "\n",
    "bisect_result = bisection(f, -1,2)\n",
    "\n",
    "plt.plot((bisect_result.result,bisect_result.result), (-200, 100), label=\"minimum\")\n",
    "plt.plot(xs,ys, label=\"f(k)\")\n",
    "\n",
    "plt.title(\"2a) \")\n",
    "plt.xlabel(\"k (m)\")\n",
    "plt.ylabel(\"f(k) (m)\")\n",
    "plt.legend()\n",
    "plt.show()"
   ]
  },
  {
   "cell_type": "code",
   "execution_count": 8,
   "metadata": {
    "collapsed": true
   },
   "outputs": [],
   "source": [
    "f_fix = lambda k: k/7*(10+1/(2*k))*np.e**(-k)-1/14"
   ]
  },
  {
   "cell_type": "code",
   "execution_count": 9,
   "metadata": {
    "collapsed": false
   },
   "outputs": [],
   "source": [
    "def fixed_point(f, start, tol=1e-12,max_iterations=100):\n",
    "    previous = start\n",
    "    current = f(previous)\n",
    "    iterations = 0\n",
    "    while np.abs(current - previous) > tol and iterations < max_iterations:\n",
    "        iterations += 1\n",
    "        previous = current\n",
    "        current=f(previous)\n",
    "    return current"
   ]
  },
  {
   "cell_type": "code",
   "execution_count": 10,
   "metadata": {
    "collapsed": false
   },
   "outputs": [
    {
     "ename": "SyntaxError",
     "evalue": "invalid syntax (<ipython-input-10-d7fa4185caa1>, line 1)",
     "output_type": "error",
     "traceback": [
      "\u001b[1;36m  File \u001b[1;32m\"<ipython-input-10-d7fa4185caa1>\"\u001b[1;36m, line \u001b[1;32m1\u001b[0m\n\u001b[1;33m    def derive()\u001b[0m\n\u001b[1;37m                ^\u001b[0m\n\u001b[1;31mSyntaxError\u001b[0m\u001b[1;31m:\u001b[0m invalid syntax\n"
     ]
    }
   ],
   "source": [
    "def derive()"
   ]
  },
  {
   "cell_type": "code",
   "execution_count": 11,
   "metadata": {
    "collapsed": false
   },
   "outputs": [
    {
     "name": "stdout",
     "output_type": "stream",
     "text": [
      "0.29670305321659407\n"
     ]
    },
    {
     "data": {
      "image/png": "[encoded data removed]",
      "text/plain": [
       "<matplotlib.figure.Figure at 0xf80bc897f0>"
      ]
     },
     "metadata": {},
     "output_type": "display_data"
    }
   ],
   "source": [
    "xs = np.linspace(0.10,0.5,1000)\n",
    "ys = f_fix(xs)\n",
    "\n",
    "point = fixed_point(f_fix, 1)\n",
    "print(point)\n",
    "\n",
    "plt.plot(xs,ys, label=\"f_fix(k)\")\n",
    "plt.plot(xs,xs, label=\"k\")\n",
    "\n",
    "#plt.plot((point,point), (plt.ylim(0), plt.ylim(1)), label=\"fixed point\")\n",
    "\n",
    "plt.title(\"2a) \")\n",
    "plt.xlabel(\"k (m)\")\n",
    "plt.ylabel(\"f_fix(k) (m)\")\n",
    "plt.xlim(0,0.5)\n",
    "plt.legend()\n",
    "plt.show()"
   ]
  },
  {
   "cell_type": "code",
   "execution_count": 12,
   "metadata": {
    "collapsed": false
   },
   "outputs": [],
   "source": [
    "def times(f, start, n):\n",
    "    current = f(start)\n",
    "    while n > 0:\n",
    "        current = f(current)\n",
    "        print(current)\n",
    "        n-=1\n",
    "    return current\n",
    "#times(f_fix, 10, 10)\n",
    "\n"
   ]
  },
  {
   "cell_type": "code",
   "execution_count": 13,
   "metadata": {
    "collapsed": false
   },
   "outputs": [
    {
     "data": {
      "image/png": "[encoded data removed]",
      "text/plain": [
       "<matplotlib.figure.Figure at 0xf80c52e160>"
      ]
     },
     "metadata": {},
     "output_type": "display_data"
    }
   ],
   "source": [
    "h = 3e-12\n",
    "x = np.linspace(-2*np.pi, 2*np.pi, 10000)\n",
    "y = (-np.sin(x+h)+np.sin(x))/np.sin(x)\n",
    "plt.plot(x,y)\n",
    "plt.show()"
   ]
  },
  {
   "cell_type": "code",
   "execution_count": 19,
   "metadata": {
    "collapsed": false
   },
   "outputs": [
    {
     "name": "stdout",
     "output_type": "stream",
     "text": [
      "1.99720539501\n",
      "0.969434026529\n",
      "1.59223627053\n",
      "2.01427333669\n",
      "-0.833890724255\n",
      "-1.67432238945\n",
      "-3.71867089618\n",
      "-2.28115599712\n",
      "1.17775194596\n",
      "1.72036145546\n",
      "2.08688550602\n",
      "3.44322044403\n",
      "4.20763084384\n",
      "5.6106564909\n",
      "4.22093960177\n",
      "5.64865769082\n",
      "4.32384007999\n",
      "5.98143795595\n",
      "5.00644210544\n",
      "-5.04200402538\n",
      "-15.231472805\n",
      "-14.0252479722\n",
      "-19.5059618264\n",
      "-20.7445872681\n",
      "-17.0709050395\n",
      "-12.8388818486\n",
      "-13.9129248744\n",
      "-17.3385420017\n",
      "-530.128786901\n",
      "-528.689350619\n",
      "-530.298513223\n",
      "-529.057682428\n",
      "-532.413955123\n",
      "-520.977167451\n",
      "-522.138926885\n",
      "-523.379856308\n",
      "-520.025710975\n",
      "-531.169346525\n",
      "-530.137867579\n",
      "-528.711749456\n",
      "-530.368021937\n",
      "-529.184452988\n",
      "-534.90233123\n",
      "-536.384336999\n",
      "-534.902066591\n",
      "-536.383644437\n",
      "-534.900251922\n",
      "-536.378904877\n",
      "-534.887768036\n",
      "-536.346737707\n",
      "-534.799879052\n",
      "-536.139400125\n",
      "-534.037647966\n",
      "-535.040193855\n",
      "-536.803506804\n",
      "-535.711583697\n",
      "-521.030875931\n",
      "-522.158751283\n",
      "-523.418194515\n",
      "-520.428604851\n",
      "-522.548797549\n",
      "-524.533199578\n",
      "-523.524886328\n",
      "-521.214892094\n",
      "-522.261480056\n",
      "-523.635654153\n",
      "-521.748214318\n",
      "-522.779702852\n",
      "-526.192683992\n",
      "-487.559791322\n",
      "-486.335063293\n",
      "-485.110654789\n",
      "-488.894588422\n",
      "-491.636365565\n",
      "-531.770892561\n",
      "-530.268011278\n",
      "-528.998262162\n",
      "-531.822371176\n",
      "-530.225646709\n",
      "-528.911324464\n",
      "-531.215894254\n",
      "-530.171390664\n",
      "-528.791410774\n",
      "-530.648425175\n",
      "-529.605698263\n",
      "-525.490088028\n",
      "-523.98317582\n",
      "-522.711756079\n",
      "-525.511173799\n",
      "-523.967404017\n",
      "-522.679941735\n",
      "-525.265699421\n",
      "-524.035229092\n",
      "-522.811930411\n",
      "-526.628053351\n",
      "-529.149469311\n",
      "-533.92919421\n",
      "-534.94172672\n",
      "-536.49156878\n",
      "-535.157504808\n"
     ]
    },
    {
     "data": {
      "text/plain": [
       "-535.15750480840904"
      ]
     },
     "execution_count": 19,
     "metadata": {},
     "output_type": "execute_result"
    }
   ],
   "source": [
    "def next(p):\n",
    "    return p - (p-np.sin(p)-1)/(np.sin(p) + p*np.cos(p))\n",
    "    \n",
    "times(next, 0.5, 100)"
   ]
  },
  {
   "cell_type": "code",
   "execution_count": 23,
   "metadata": {
    "collapsed": false
   },
   "outputs": [
    {
     "name": "stderr",
     "output_type": "stream",
     "text": [
      "C:\\Anaconda3\\lib\\site-packages\\ipykernel\\__main__.py:5: RuntimeWarning: invalid value encountered in log\n"
     ]
    },
    {
     "data": {
      "image/png": "[encoded data removed]",
      "text/plain": [
       "<matplotlib.figure.Figure at 0xf804e8f0f0>"
      ]
     },
     "metadata": {},
     "output_type": "display_data"
    },
    {
     "data": {
      "image/png": "[encoded data removed]",
      "text/plain": [
       "<matplotlib.figure.Figure at 0xf80c584400>"
      ]
     },
     "metadata": {},
     "output_type": "display_data"
    }
   ],
   "source": [
    "# 10\n",
    "f = lambda x: x * np.log(x)\n",
    "x = np.linspace(-10, 10, 1000)\n",
    "y1 = x\n",
    "y2 = -np.log(x)\n",
    "plt.plot(x, y1)\n",
    "plt.plot(x, y2)\n",
    "plt.show()\n",
    "gprime = lambda x: -1/x\n",
    "plt.plot(x, gprime(x))\n",
    "plt.show()"
   ]
  }
 ],
 "metadata": {
  "kernelspec": {
   "display_name": "Python 3",
   "language": "python",
   "name": "python3"
  },
  "language_info": {
   "codemirror_mode": {
    "name": "ipython",
    "version": 3
   },
   "file_extension": ".py",
   "mimetype": "text/x-python",
   "name": "python",
   "nbconvert_exporter": "python",
   "pygments_lexer": "ipython3",
   "version": "3.5.1"
  }
 },
 "nbformat": 4,
 "nbformat_minor": 0
}
