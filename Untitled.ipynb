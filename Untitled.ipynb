{
 "cells": [
  {
   "cell_type": "code",
   "execution_count": 3,
   "metadata": {
    "collapsed": false
   },
   "outputs": [],
   "source": [
    "%matplotlib inline\n",
    "import matplotlib.pyplot as plt\n",
    "import numpy as np\n",
    "from collections import namedtuple\n",
    "plt.style.use('ggplot')\n"
   ]
  },
  {
   "cell_type": "code",
   "execution_count": 4,
   "metadata": {
    "collapsed": false
   },
   "outputs": [
    {
     "name": "stdout",
     "output_type": "stream",
     "text": [
      "from builtins import property as _property, tuple as _tuple\n",
      "from operator import itemgetter as _itemgetter\n",
      "from collections import OrderedDict\n",
      "\n",
      "class BisectionResult(tuple):\n",
      "    'BisectionResult(result, possible_error, res)'\n",
      "\n",
      "    __slots__ = ()\n",
      "\n",
      "    _fields = ('result', 'possible_error', 'res')\n",
      "\n",
      "    def __new__(_cls, result, possible_error, res):\n",
      "        'Create new instance of BisectionResult(result, possible_error, res)'\n",
      "        return _tuple.__new__(_cls, (result, possible_error, res))\n",
      "\n",
      "    @classmethod\n",
      "    def _make(cls, iterable, new=tuple.__new__, len=len):\n",
      "        'Make a new BisectionResult object from a sequence or iterable'\n",
      "        result = new(cls, iterable)\n",
      "        if len(result) != 3:\n",
      "            raise TypeError('Expected 3 arguments, got %d' % len(result))\n",
      "        return result\n",
      "\n",
      "    def _replace(_self, **kwds):\n",
      "        'Return a new BisectionResult object replacing specified fields with new values'\n",
      "        result = _self._make(map(kwds.pop, ('result', 'possible_error', 'res'), _self))\n",
      "        if kwds:\n",
      "            raise ValueError('Got unexpected field names: %r' % list(kwds))\n",
      "        return result\n",
      "\n",
      "    def __repr__(self):\n",
      "        'Return a nicely formatted representation string'\n",
      "        return self.__class__.__name__ + '(result=%r, possible_error=%r, res=%r)' % self\n",
      "\n",
      "    def _asdict(self):\n",
      "        'Return a new OrderedDict which maps field names to their values.'\n",
      "        return OrderedDict(zip(self._fields, self))\n",
      "\n",
      "    def __getnewargs__(self):\n",
      "        'Return self as a plain tuple.  Used by copy and pickle.'\n",
      "        return tuple(self)\n",
      "\n",
      "    result = _property(_itemgetter(0), doc='Alias for field number 0')\n",
      "\n",
      "    possible_error = _property(_itemgetter(1), doc='Alias for field number 1')\n",
      "\n",
      "    res = _property(_itemgetter(2), doc='Alias for field number 2')\n",
      "\n",
      "\n"
     ]
    }
   ],
   "source": [
    "BisectionResult = namedtuple('BisectionResult', ['result', 'possible_error', 'res'], verbose=True)\n",
    "def bisection(f, left, right, max_iterations=200, tol=1e-12):\n",
    "    iterations = 0\n",
    "    new = None\n",
    "    while ((right - left) / 2) > tol and iterations < max_iterations:\n",
    "        iterations+=1\n",
    "        new = (left+right)/2\n",
    "        if f(new)*f(left) > 0:\n",
    "            left=new\n",
    "        elif f(new)*f(right) > 0:\n",
    "            right=new\n",
    "        else: break\n",
    "    print(iterations)\n",
    "    print(new)\n",
    "    possible_error=(right-left)/2\n",
    "    return BisectionResult(new, possible_error, f(new))"
   ]
  },
  {
   "cell_type": "code",
   "execution_count": 5,
   "metadata": {
    "collapsed": false
   },
   "outputs": [],
   "source": [
    "#f = lambda k: (10+1/(2*k))*np.e**(-k)-7-1/(2*k)\n",
    "f = lambda k: -(10+1/(2*k))*np.e**(-k)+7+1/(2*k)"
   ]
  },
  {
   "cell_type": "code",
   "execution_count": 6,
   "metadata": {
    "collapsed": false
   },
   "outputs": [
    {
     "name": "stdout",
     "output_type": "stream",
     "text": [
      "41\n",
      "0.29670305321496926\n"
     ]
    },
    {
     "data": {
      "image/png": "[encoded data removed]",
      "text/plain": [
       "<matplotlib.figure.Figure at 0xd0bb887a20>"
      ]
     },
     "metadata": {},
     "output_type": "display_data"
    }
   ],
   "source": [
    "xs = np.linspace(-3,3,1000)\n",
    "ys = f(xs)\n",
    "\n",
    "bisect_result = bisection(f, -1,2)\n",
    "\n",
    "plt.plot((bisect_result.result,bisect_result.result), (-200, 100), label=\"minimum\")\n",
    "plt.plot(xs,ys, label=\"f(k)\")\n",
    "\n",
    "plt.title(\"2a) \")\n",
    "plt.xlabel(\"k (m)\")\n",
    "plt.ylabel(\"f(k) (m)\")\n",
    "plt.legend()\n",
    "plt.show()"
   ]
  },
  {
   "cell_type": "code",
   "execution_count": 11,
   "metadata": {
    "collapsed": true
   },
   "outputs": [],
   "source": [
    "f_fix = lambda k: k/7*(10+1/(2*k))*np.e**(-k)-1/14"
   ]
  },
  {
   "cell_type": "code",
   "execution_count": 8,
   "metadata": {
    "collapsed": false
   },
   "outputs": [],
   "source": [
    "def fixed_point(f, start, tol=1e-12,max_iterations=100):\n",
    "    previous = start\n",
    "    current = f(previous)\n",
    "    iterations = 0\n",
    "    while np.abs(current - previous) > tol and iterations < max_iterations:\n",
    "        iterations += 1\n",
    "        current=f(previous)\n",
    "    return current"
   ]
  },
  {
   "cell_type": "code",
   "execution_count": 15,
   "metadata": {
    "collapsed": false
   },
   "outputs": [
    {
     "data": {
      "image/png": "[encoded data removed]",
      "text/plain": [
       "<matplotlib.figure.Figure at 0xd0bbd96320>"
      ]
     },
     "metadata": {},
     "output_type": "display_data"
    }
   ],
   "source": [
    "xs = np.linspace(0.10,0.5,1000)\n",
    "ys = f_fix(xs)\n",
    "\n",
    "point = fixed_point(f_fix, 100)\n",
    "\n",
    "plt.plot((point,point), (-1, 1), label=\"fixed point\")\n",
    "plt.plot(xs,ys, label=\"f_fix(k)\")\n",
    "plt.plot(xs,xs, label=\"k\")\n",
    "\n",
    "plt.title(\"2a) \")\n",
    "plt.xlabel(\"k (m)\")\n",
    "plt.ylabel(\"f_fix(k) (m)\")\n",
    "plt.legend()\n",
    "plt.show()"
   ]
  }
 ],
 "metadata": {
  "kernelspec": {
   "display_name": "Python 3",
   "language": "python",
   "name": "python3"
  },
  "language_info": {
   "codemirror_mode": {
    "name": "ipython",
    "version": 3
   },
   "file_extension": ".py",
   "mimetype": "text/x-python",
   "name": "python",
   "nbconvert_exporter": "python",
   "pygments_lexer": "ipython3",
   "version": "3.5.1"
  }
 },
 "nbformat": 4,
 "nbformat_minor": 0
}
