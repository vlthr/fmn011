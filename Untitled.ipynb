{
 "cells": [
  {
   "cell_type": "code",
   "execution_count": 1,
   "metadata": {
    "autoscroll": "json-false",
    "collapsed": false,
    "ein.tags": [
     "worksheet-0"
    ]
   },
   "outputs": [],
   "source": [
    "%matplotlib inline\n",
    "import matplotlib.pyplot as plt\n",
    "import numpy as np\n",
    "from collections import namedtuple\n",
    "plt.style.use('ggplot')\n"
   ]
  },
  {
   "cell_type": "code",
   "execution_count": 124,
   "metadata": {
    "autoscroll": "json-false",
    "collapsed": false,
    "ein.tags": [
     "worksheet-0"
    ]
   },
   "outputs": [],
   "source": [
    "%%capture\n",
    "BisectionResult = namedtuple('BisectionResult', ['result', 'possible_error', 'res','iterations', 'iteration_list'], verbose=True)\n",
    "def bisection(f, left, right, max_iterations=200, tol=1e-12):\n",
    "    iterations = 0\n",
    "    new = np.nan\n",
    "    iteration_list = []\n",
    "    while ((right - left) / 2) > tol and iterations < max_iterations:\n",
    "        iterations+=1\n",
    "        new = (left+right)/2\n",
    "        iteration_list.append(new)\n",
    "        if f(new)*f(left) > 0:\n",
    "            left=new\n",
    "        elif f(new)*f(right) > 0:\n",
    "            right=new\n",
    "        else: break\n",
    "    possible_error=(right-left)/2\n",
    "    return BisectionResult(new, possible_error, f(new),iterations, np.array(iteration_list))"
   ]
  },
  {
   "cell_type": "code",
   "execution_count": 3,
   "metadata": {
    "autoscroll": "json-false",
    "collapsed": false,
    "ein.tags": [
     "worksheet-0"
    ]
   },
   "outputs": [],
   "source": [
    "#f = lambda k: (10+1/(2*k))*np.e**(-k)-7-1/(2*k)\n",
    "f = lambda k: -(10+1/(2*k))*np.e**(-k)+7+1/(2*k)"
   ]
  },
  {
   "cell_type": "code",
   "execution_count": 4,
   "metadata": {
    "autoscroll": "json-false",
    "collapsed": false,
    "ein.tags": [
     "worksheet-0"
    ]
   },
   "outputs": [
    {
     "data": {
      "image/png": "[encoded data removed]",
      "text/plain": [
       "<matplotlib.figure.Figure at 0x4279fb3c18>"
      ]
     },
     "metadata": {},
     "output_type": "display_data"
    }
   ],
   "source": [
    "xs = np.linspace(-3,3,1000)\n",
    "ys = f(xs)\n",
    "\n",
    "bisect_result = bisection(f, -1,2)\n",
    "\n",
    "plt.plot((bisect_result.result,bisect_result.result), (-200, 100), label=\"minimum\")\n",
    "plt.plot(xs,ys, label=\"f(k)\")\n",
    "\n",
    "plt.title(\"2a) \")\n",
    "plt.xlabel(\"k (m)\")\n",
    "plt.ylabel(\"f(k) (m)\")\n",
    "plt.legend()\n",
    "plt.show()"
   ]
  },
  {
   "cell_type": "code",
   "execution_count": 5,
   "metadata": {
    "autoscroll": "json-false",
    "collapsed": false,
    "ein.tags": [
     "worksheet-0"
    ]
   },
   "outputs": [
    {
     "data": {
      "text/plain": [
       "BisectionResult(result=1.7320508075692942, possible_error=5.684341886080801e-13, res=1.4441781104324036e-12, iterations=43, iteration_list=array([ 5.        ,  2.5       ,  1.25      ,  1.875     ,  1.5625    ,\n",
       "        1.71875   ,  1.796875  ,  1.7578125 ,  1.73828125,  1.72851562,\n",
       "        1.73339844,  1.73095703,  1.73217773,  1.73156738,  1.73187256,\n",
       "        1.73202515,  1.73210144,  1.73206329,  1.73204422,  1.73205376,\n",
       "        1.73204899,  1.73205137,  1.73205018,  1.73205078,  1.73205107,\n",
       "        1.73205093,  1.73205085,  1.73205081,  1.7320508 ,  1.7320508 ,\n",
       "        1.73205081,  1.73205081,  1.73205081,  1.73205081,  1.73205081,\n",
       "        1.73205081,  1.73205081,  1.73205081,  1.73205081,  1.73205081,\n",
       "        1.73205081,  1.73205081,  1.73205081]))"
      ]
     },
     "execution_count": 5,
     "metadata": {},
     "output_type": "execute_result"
    },
    {
     "data": {
      "image/png": "[encoded data removed]",
      "text/plain": [
       "<matplotlib.figure.Figure at 0x4279fb33c8>"
      ]
     },
     "metadata": {},
     "output_type": "display_data"
    }
   ],
   "source": [
    "x2 = lambda x: x**2 - 3\n",
    "\n",
    "points = np.linspace(-10,10, 1000)\n",
    "plt.plot(points, x2(points))\n",
    "bisection(x2, 0, 10)"
   ]
  },
  {
   "cell_type": "code",
   "execution_count": 6,
   "metadata": {
    "autoscroll": "json-false",
    "collapsed": false,
    "ein.tags": [
     "worksheet-0"
    ]
   },
   "outputs": [],
   "source": [
    "f_fix = lambda k: k/7*(10+1/(2*k))*np.e**(-k)-1/14"
   ]
  },
  {
   "cell_type": "code",
   "execution_count": 7,
   "metadata": {
    "autoscroll": "json-false",
    "collapsed": false,
    "ein.tags": [
     "worksheet-0"
    ]
   },
   "outputs": [],
   "source": [
    "%%capture\n",
    "FixedPointResult = namedtuple('FixedPointResult', ['result', 'iterations', 'iteration_list'], verbose=True)\n",
    "def fixed_point(f, start, tol=1e-12,max_iterations=100):\n",
    "    previous = start\n",
    "    current = f(previous)\n",
    "    iterations = 0\n",
    "    iteration_list = []\n",
    "    while np.abs(current - previous) > tol and iterations < max_iterations:\n",
    "        iterations += 1\n",
    "        previous = current\n",
    "        current=f(current)\n",
    "        iteration_list.append(current)\n",
    "    return FixedPointResult(current, iterations, np.array(iteration_list))"
   ]
  },
  {
   "cell_type": "code",
   "execution_count": 8,
   "metadata": {
    "autoscroll": "json-false",
    "collapsed": false,
    "ein.tags": [
     "worksheet-0"
    ]
   },
   "outputs": [
    {
     "name": "stdout",
     "output_type": "stream",
     "text": [
      "FixedPointResult(result=0.29670305321659407, iterations=68, iteration_list=array([ 0.39724103,  0.35803271,  0.3360505 ,  0.32266668,  0.31412983,\n",
      "        0.30852748,  0.30478341,  0.30225113,  0.30052468,  0.29934123,\n",
      "        0.29852699,  0.29796535,  0.29757728,  0.29730881,  0.29712293,\n",
      "        0.29699416,  0.29690491,  0.29684304,  0.29680014,  0.29677039,\n",
      "        0.29674976,  0.29673545,  0.29672553,  0.29671864,  0.29671387,\n",
      "        0.29671055,  0.29670826,  0.29670666,  0.29670556,  0.29670479,\n",
      "        0.29670426,  0.29670389,  0.29670363,  0.29670346,  0.29670333,\n",
      "        0.29670325,  0.29670319,  0.29670315,  0.29670312,  0.2967031 ,\n",
      "        0.29670308,  0.29670307,  0.29670307,  0.29670306,  0.29670306,\n",
      "        0.29670306,  0.29670306,  0.29670306,  0.29670305,  0.29670305,\n",
      "        0.29670305,  0.29670305,  0.29670305,  0.29670305,  0.29670305,\n",
      "        0.29670305,  0.29670305,  0.29670305,  0.29670305,  0.29670305,\n",
      "        0.29670305,  0.29670305,  0.29670305,  0.29670305,  0.29670305,\n",
      "        0.29670305,  0.29670305,  0.29670305]))\n"
     ]
    },
    {
     "data": {
      "image/png": "[encoded data removed]",
      "text/plain": [
       "<matplotlib.figure.Figure at 0x427a8fbc50>"
      ]
     },
     "metadata": {},
     "output_type": "display_data"
    }
   ],
   "source": [
    "xs = np.linspace(0.10,0.5,1000)\n",
    "ys = f_fix(xs)\n",
    "\n",
    "point = fixed_point(f_fix, 1)\n",
    "print(point)\n",
    "\n",
    "plt.plot(xs,ys, label=\"f_fix(k)\")\n",
    "plt.plot(xs,xs, label=\"k\")\n",
    "\n",
    "#plt.plot((point,point), (plt.ylim(0), plt.ylim(1)), label=\"fixed point\")\n",
    "\n",
    "plt.title(\"2a) \")\n",
    "plt.xlabel(\"k (m)\")\n",
    "plt.ylabel(\"f_fix(k) (m)\")\n",
    "plt.xlim(0,0.5)\n",
    "plt.legend()\n",
    "plt.show()"
   ]
  },
  {
   "cell_type": "code",
   "execution_count": 13,
   "metadata": {
    "autoscroll": "json-false",
    "collapsed": false,
    "ein.tags": [
     "worksheet-0"
    ]
   },
   "outputs": [],
   "source": [
    "def derive(f, h=1e-12):\n",
    "    def derived(x):\n",
    "        return (f(x+h)-f(x))/h\n",
    "    return derived\n",
    "\n",
    "\n",
    "def newton(f, fprime, start, tol=1e-12):\n",
    "    def g(x):\n",
    "        return x - f(x)/fprime(x)\n",
    "    return fixed_point(g, start, tol=tol)\n",
    "\n",
    "def secant(f, start, tol=1e-12):\n",
    "    return newton(f, derive(f), start, tol=tol)"
   ]
  },
  {
   "cell_type": "code",
   "execution_count": 14,
   "metadata": {
    "autoscroll": "json-false",
    "collapsed": false,
    "ein.tags": [
     "worksheet-0"
    ]
   },
   "outputs": [
    {
     "data": {
      "text/plain": [
       "FixedPointResult(result=-1.3324871338230972, iterations=17, iteration_list=array([-31.96056935, -28.59015488, -25.22024972, -21.84284515,\n",
       "       -18.47190207, -15.12932668, -11.83152524,  -8.64029684,\n",
       "        -5.70382579,  -3.30790429,  -1.84039634,  -1.37190716,\n",
       "        -1.33275868,  -1.33248684,  -1.33248713,  -1.33248713,  -1.33248713]))"
      ]
     },
     "execution_count": 14,
     "metadata": {},
     "output_type": "execute_result"
    }
   ],
   "source": [
    "# Task 6\n",
    "k=0.29670305\n",
    "time_of_death = lambda t: 22 -37 + 0.5*t-1/(2*k) + (10 + 1/(2*k))*np.e**(-k*t)\n",
    "derivative_of_death = lambda t: 0.5 + -k*(10 + 1/(2*k))*np.e**(-k*t)\n",
    "\n",
    "newton(time_of_death, derivative_of_death, 5)\n",
    "secant(time_of_death, 5)"
   ]
  },
  {
   "cell_type": "code",
   "execution_count": 129,
   "metadata": {
    "autoscroll": "json-false",
    "collapsed": false,
    "ein.tags": [
     "worksheet-0"
    ]
   },
   "outputs": [
    {
     "data": {
      "image/png": "[encoded data removed]",
      "text/plain": [
       "<matplotlib.figure.Figure at 0x42738eddd8>"
      ]
     },
     "metadata": {},
     "output_type": "display_data"
    },
    {
     "data": {
      "text/plain": [
       "-0.00040501157656080977"
      ]
     },
     "execution_count": 129,
     "metadata": {},
     "output_type": "execute_result"
    },
    {
     "data": {
      "image/png": "[encoded data removed]",
      "text/plain": [
       "<matplotlib.figure.Figure at 0x4273708080>"
      ]
     },
     "metadata": {},
     "output_type": "display_data"
    }
   ],
   "source": [
    "x = np.linspace(-10,5,1000)\n",
    "plt.plot(x, time_of_death(x)+37)\n",
    "plt.show()\n",
    "plt.plot(x, derivative_of_death(x))\n",
    "time_of_death(-1.3324)"
   ]
  },
  {
   "cell_type": "code",
   "execution_count": 16,
   "metadata": {
    "autoscroll": "json-false",
    "collapsed": false,
    "ein.tags": [
     "worksheet-0"
    ]
   },
   "outputs": [
    {
     "data": {
      "text/plain": [
       "FixedPointResult(result=5.579265880707039e+18, iterations=100, iteration_list=array([  5.39549713e+01,   6.42472717e+01,   7.96857210e+01,\n",
       "         1.02843395e+02,   1.37579906e+02,   1.89684672e+02,\n",
       "         2.67841822e+02,   3.85077546e+02,   5.60931132e+02,\n",
       "         8.24711511e+02,   1.22038208e+03,   1.81388793e+03,\n",
       "         2.70414671e+03,   4.03953488e+03,   6.04261714e+03,\n",
       "         9.04724052e+03,   1.35541756e+04,   2.03145782e+04,\n",
       "         3.04551821e+04,   4.56660880e+04,   6.84824468e+04,\n",
       "         1.02706985e+05,   1.54043792e+05,   2.31049003e+05,\n",
       "         3.46556820e+05,   5.19818545e+05,   7.79711132e+05,\n",
       "         1.16955001e+06,   1.75430833e+06,   2.63144582e+06,\n",
       "         3.94715204e+06,   5.92071137e+06,   8.88105037e+06,\n",
       "         1.33215589e+07,   1.99823216e+07,   2.99734658e+07,\n",
       "         4.49601819e+07,   6.74402562e+07,   1.01160368e+08,\n",
       "         1.51740535e+08,   2.27610786e+08,   3.41416162e+08,\n",
       "         5.12124226e+08,   7.68186322e+08,   1.15227947e+09,\n",
       "         1.72841918e+09,   2.59262876e+09,   3.88894312e+09,\n",
       "         5.83341466e+09,   8.75012198e+09,   1.31251829e+10,\n",
       "         1.96877744e+10,   2.95316616e+10,   4.42974924e+10,\n",
       "         6.64462385e+10,   9.96693578e+10,   1.49504037e+11,\n",
       "         2.24256055e+11,   3.36384082e+11,   5.04576124e+11,\n",
       "         7.56864186e+11,   1.13529628e+12,   1.70294442e+12,\n",
       "         2.55441663e+12,   3.83162494e+12,   5.74743741e+12,\n",
       "         8.62115611e+12,   1.29317342e+13,   1.93976013e+13,\n",
       "         2.90964019e+13,   4.36446028e+13,   6.54669042e+13,\n",
       "         9.82003564e+13,   1.47300535e+14,   2.20950802e+14,\n",
       "         3.31426203e+14,   4.97139304e+14,   7.45708956e+14,\n",
       "         1.11856343e+15,   1.67784515e+15,   2.51676773e+15,\n",
       "         3.77515159e+15,   5.66272738e+15,   8.49409108e+15,\n",
       "         1.27411366e+16,   1.91117049e+16,   2.86675574e+16,\n",
       "         4.30013361e+16,   6.45020041e+16,   9.67530062e+16,\n",
       "         1.45129509e+17,   2.17694264e+17,   3.26541396e+17,\n",
       "         4.89812094e+17,   7.34718141e+17,   1.10207721e+18,\n",
       "         1.65311582e+18,   2.47967372e+18,   3.71951059e+18,\n",
       "         5.57926588e+18]))"
      ]
     },
     "execution_count": 16,
     "metadata": {},
     "output_type": "execute_result"
    }
   ],
   "source": [
    "fixed_point(lambda t: time_of_death(t)+t, 1)"
   ]
  },
  {
   "cell_type": "code",
   "execution_count": 66,
   "metadata": {
    "autoscroll": "json-false",
    "collapsed": false,
    "ein.tags": [
     "worksheet-0"
    ]
   },
   "outputs": [],
   "source": [
    "def plot_convergence(result):\n",
    "    errors = np.abs(result.result - result.iteration_list)\n",
    "    changes = np.array([errors[i]/errors[i-1] for i in range(1, len(errors))])\n",
    "    x = range(0, len(changes))\n",
    "    plt.scatter(x, changes)\n",
    "    print(changes)\n",
    "    #plt.plot(x, np.poly1d(np.polyfit(x, changes, 1))(x))\n",
    "    plt.show()\n",
    "    \n",
    "def plot_quadratic_convergence(result):\n",
    "    errors = np.abs(result.result - result.iteration_list)\n",
    "    changes = np.array([errors[i]/(errors[i-1]**2) for i in range(1, len(errors))])\n",
    "    x = range(0, len(changes))\n",
    "    plt.scatter(x, changes)\n",
    "    print(changes)\n",
    "    #plt.plot(x, np.poly1d(np.polyfit(x, changes, 1))(x))\n",
    "    plt.show()"
   ]
  },
  {
   "cell_type": "code",
   "execution_count": 18,
   "metadata": {
    "autoscroll": "json-false",
    "collapsed": false,
    "ein.tags": [
     "worksheet-0"
    ]
   },
   "outputs": [
    {
     "name": "stdout",
     "output_type": "stream",
     "text": [
      "newton:  FixedPointResult(result=0.56714329040978384, iterations=4, iteration_list=array([ 0.56713899,  0.56714329,  0.56714329,  0.56714329]))\n",
      "secant:  FixedPointResult(result=0.56714329040978384, iterations=4, iteration_list=array([ 0.56713905,  0.56714329,  0.56714329,  0.56714329]))\n"
     ]
    }
   ],
   "source": [
    "print(\"newton: \", newton(lambda x: x+np.log(x), lambda x: 1 + 1/x, 0.5))\n",
    "print(\"secant: \" , secant(lambda x: x+np.log(x), 0.5))"
   ]
  },
  {
   "cell_type": "code",
   "execution_count": 49,
   "metadata": {
    "autoscroll": "json-false",
    "collapsed": false,
    "ein.tags": [
     "worksheet-0"
    ]
   },
   "outputs": [
    {
     "data": {
      "image/png": "[encoded data removed]",
      "text/plain": [
       "<matplotlib.figure.Figure at 0x427a9ad400>"
      ]
     },
     "metadata": {},
     "output_type": "display_data"
    }
   ],
   "source": [
    "result = bisection(time_of_death, -2,3)\n",
    "plt.ylim(-1,2)\n",
    "plot_convergence(result)"
   ]
  },
  {
   "cell_type": "code",
   "execution_count": 113,
   "metadata": {
    "collapsed": false
   },
   "outputs": [
    {
     "name": "stdout",
     "output_type": "stream",
     "text": [
      "[ 0.09718244  0.09712688  0.09712148  0.09712096  0.0971209   0.09712083\n",
      "  0.09712015  0.09711317  0.09704161  0.09630229  0.08848228  0.        ]\n"
     ]
    },
    {
     "data": {
      "image/png": "[encoded data removed]",
      "text/plain": [
       "<matplotlib.figure.Figure at 0x42735bc828>"
      ]
     },
     "metadata": {},
     "output_type": "display_data"
    }
   ],
   "source": [
    "# Fixed point\n",
    "# Just adding +t to both sides doesn't converge, but this \n",
    "def best_fixed_g(t):\n",
    "    return np.log(1+(5-0.5*t)/(10+(1/(2*k))))/(-k)\n",
    "\n",
    "result = fixed_point(best_fixed_g, 3)\n",
    "plt.ylim(0,0.5)\n",
    "plot_convergence(result)"
   ]
  },
  {
   "cell_type": "code",
   "execution_count": 71,
   "metadata": {
    "collapsed": false
   },
   "outputs": [
    {
     "name": "stdout",
     "output_type": "stream",
     "text": [
      "FixedPointResult(result=-1.3324871338230981, iterations=8, iteration_list=array([-5.35953736, -3.06036045, -1.7317157 , -1.35737221, -1.33258855,\n",
      "       -1.33248714, -1.33248713, -1.33248713]))\n",
      "[  4.29066740e-01   2.31051990e-01   6.23328948e-02   4.07558159e-03\n",
      "   1.66642205e-05   9.19654636e-07   0.00000000e+00]\n"
     ]
    },
    {
     "data": {
      "image/png": "[encoded data removed]",
      "text/plain": [
       "<matplotlib.figure.Figure at 0x427aa1ba90>"
      ]
     },
     "metadata": {},
     "output_type": "display_data"
    },
    {
     "name": "stdout",
     "output_type": "stream",
     "text": [
      "[  1.06546161e-01   1.33720446e-01   1.56133353e-01   1.63776160e-01\n",
      "   1.64307166e-01   5.44140765e+02   0.00000000e+00]\n"
     ]
    },
    {
     "data": {
      "image/png": "[encoded data removed]",
      "text/plain": [
       "<matplotlib.figure.Figure at 0x427a029fd0>"
      ]
     },
     "metadata": {},
     "output_type": "display_data"
    }
   ],
   "source": [
    "# Newton\n",
    "result = newton(time_of_death, derivative_of_death, 3)\n",
    "print(result)\n",
    "#plt.ylim(0,0.5)\n",
    "plot_convergence(result)\n",
    "plt.ylim(0,1)\n",
    "plot_quadratic_convergence(result)"
   ]
  },
  {
   "cell_type": "code",
   "execution_count": 116,
   "metadata": {
    "collapsed": true
   },
   "outputs": [],
   "source": [
    "def plot_iterations(x, f, **kwargs):\n",
    "    y = [f(start).iterations for start in x]\n",
    "    plt.scatter(x,y, **kwargs)"
   ]
  },
  {
   "cell_type": "code",
   "execution_count": 125,
   "metadata": {
    "collapsed": false
   },
   "outputs": [
    {
     "name": "stderr",
     "output_type": "stream",
     "text": [
      "C:\\Anaconda3\\lib\\site-packages\\ipykernel\\__main__.py:4: RuntimeWarning: invalid value encountered in log\n"
     ]
    },
    {
     "data": {
      "image/png": "[encoded data removed]",
      "text/plain": [
       "<matplotlib.figure.Figure at 0x427aac5c88>"
      ]
     },
     "metadata": {},
     "output_type": "display_data"
    }
   ],
   "source": [
    "x = np.linspace(-80, 50, 1000)\n",
    "plot_iterations(x, lambda start: fixed_point(best_fixed_g, start),color='r' )\n",
    "plot_iterations(x, lambda start: newton(time_of_death, derivative_of_death, start),color='b')\n",
    "plot_iterations(x, lambda start: bisection(time_of_death, -start, start),color='g')\n",
    "plt.show()"
   ]
  },
  {
   "cell_type": "code",
   "execution_count": 120,
   "metadata": {
    "collapsed": false
   },
   "outputs": [
    {
     "name": "stdout",
     "output_type": "stream",
     "text": [
      "[-1.33248713]\n",
      "{'fjac': array([[-1.]]), 'nfev': 12, 'qtf': array([  6.07466433e-09]), 'r': array([ 4.64822688]), 'fvec': array([ -1.06581410e-14])}\n"
     ]
    }
   ],
   "source": [
    "from scipy.optimize import fsolve\n",
    "\n",
    "result, infodict, ier, mesg = fsolve(time_of_death, 3, full_output=True)\n",
    "print(result)\n",
    "print(infodict)\n",
    "#plt.ylim(0,0.5)\n",
    "#errors = np.abs(result.result - result.iteration_list)\n",
    "#changes = np.array([errors[i]/errors[i-1] for i in range(1, len(errors))])\n",
    "#x = range(0, len(changes))\n",
    "#plt.scatter(x, changes)\n",
    "#print(changes)\n",
    "#plt.plot(x, np.poly1d(np.polyfit(x, changes, 1))(x))\n",
    "#plt.show()"
   ]
  },
  {
   "cell_type": "code",
   "execution_count": null,
   "metadata": {
    "collapsed": true
   },
   "outputs": [],
   "source": [
    "axvline"
   ]
  }
 ],
 "metadata": {
  "kernelspec": {
   "display_name": "Python 3",
   "language": "python",
   "name": "python3"
  },
  "language_info": {
   "codemirror_mode": {
    "name": "ipython",
    "version": 3
   },
   "file_extension": ".py",
   "mimetype": "text/x-python",
   "name": "python",
   "nbconvert_exporter": "python",
   "pygments_lexer": "ipython3",
   "version": "3.5.1"
  },
  "name": "Untitled.ipynb"
 },
 "nbformat": 4,
 "nbformat_minor": 0
}
