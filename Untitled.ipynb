{
 "cells": [
  {
   "cell_type": "code",
   "execution_count": 5,
   "metadata": {
    "collapsed": false
   },
   "outputs": [],
   "source": [
    "%matplotlib inline\n",
    "import matplotlib.pyplot as plt\n",
    "import numpy as np\n",
    "plt.style.use('ggplot')\n"
   ]
  },
  {
   "cell_type": "code",
   "execution_count": 10,
   "metadata": {
    "collapsed": false
   },
   "outputs": [],
   "source": [
    "def bisection(f, left, right, max_iterations=20, tol=1e-12):\n",
    "    iterations = 0\n",
    "    while (left - right) / 2 > tol and iterations < max_iterations:\n",
    "        iterations+=1\n",
    "        new = (left+right)/2\n",
    "        if f(new)*f(left) > 0:\n",
    "            left=new\n",
    "        elif f(new)*f(right) > 0:\n",
    "            right=new\n",
    "        else: break\n",
    "    return new"
   ]
  },
  {
   "cell_type": "code",
   "execution_count": 16,
   "metadata": {
    "collapsed": false
   },
   "outputs": [],
   "source": [
    "f = lambda k: (10+1/(2*k))*np.e**(-k)-7-1/(2*k)"
   ]
  },
  {
   "cell_type": "code",
   "execution_count": 17,
   "metadata": {
    "collapsed": false
   },
   "outputs": [
    {
     "data": {
      "image/png": "[encoded data removed]",
      "text/plain": [
       "<matplotlib.figure.Figure at 0xeb507bd7b8>"
      ]
     },
     "metadata": {},
     "output_type": "display_data"
    }
   ],
   "source": [
    "xs = np.linspace(-10,10,1000)\n",
    "ys = f(xs)\n",
    "\n",
    "minim = bisection(f, -6,-3)\n",
    "\n",
    "plt.plot((brewster,brewster), (0, 1), label=\"brewster angle\")\n",
    "plt.plot(xs,ys)\n",
    "\n",
    "plt.title(\"2a) \")\n",
    "plt.xlabel(\"h (m)\")\n",
    "plt.ylabel(\"f (m)\")\n",
    "plt.show()"
   ]
  }
 ],
 "metadata": {
  "kernelspec": {
   "display_name": "Python 3",
   "language": "python",
   "name": "python3"
  },
  "language_info": {
   "codemirror_mode": {
    "name": "ipython",
    "version": 3
   },
   "file_extension": ".py",
   "mimetype": "text/x-python",
   "name": "python",
   "nbconvert_exporter": "python",
   "pygments_lexer": "ipython3",
   "version": "3.5.1"
  }
 },
 "nbformat": 4,
 "nbformat_minor": 0
}
