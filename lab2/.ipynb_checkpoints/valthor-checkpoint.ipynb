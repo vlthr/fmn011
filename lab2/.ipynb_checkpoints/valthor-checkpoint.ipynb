{
 "cells": [
  {
   "cell_type": "code",
   "execution_count": 44,
   "metadata": {
    "autoscroll": "json-false",
    "collapsed": false,
    "ein.tags": [
     "worksheet-0"
    ]
   },
   "outputs": [],
   "source": [
    "%matplotlib inline\n",
    "import matplotlib.pyplot as plt\n",
    "import numpy as np\n",
    "from collections import namedtuple\n",
    "plt.style.use('ggplot')"
   ]
  },
  {
   "cell_type": "code",
   "execution_count": 35,
   "metadata": {
    "collapsed": false
   },
   "outputs": [],
   "source": [
    "def de_casteljau(t, control_points):\n",
    "    b = np.asarray(control_points, dtype=np.float64)\n",
    "    n = len(b)\n",
    "    for j in range(1,n):\n",
    "        for i in range(n-j):\n",
    "            b[i] = (1-t)*b[i] + t*b[i+1]\n",
    "    return b[0]"
   ]
  },
  {
   "cell_type": "code",
   "execution_count": 56,
   "metadata": {
    "collapsed": false
   },
   "outputs": [
    {
     "data": {
      "image/png": "[encoded data removed]",
      "text/plain": [
       "<matplotlib.figure.Figure at 0x7efd7f3c19b0>"
      ]
     },
     "metadata": {},
     "output_type": "display_data"
    }
   ],
   "source": [
    "ts = np.linspace(0,1,100)\n",
    "controls = [(0,1), (-1.25, 2), (-1.25, -2), (0,-1)]\n",
    "points = [de_casteljau(t, controls) for t in ts]\n",
    "xs = [x for x,y in points]\n",
    "ys = [y for x,y in points]\n",
    "plt.plot(xs,ys, label='b(t)')\n",
    "control_x, control_y = zip(*(controls))\n",
    "plt.ylim(-2,2)\n",
    "plt.xlim(-2,2)\n",
    "plt.title(\"Letter C\")\n",
    "plt.scatter(control_x, control_y)\n",
    "plt.plot(control_x, control_y, label='control polygon')\n",
    "plt.legend()\n",
    "plt.show()"
   ]
  },
  {
   "cell_type": "code",
   "execution_count": 57,
   "metadata": {
    "collapsed": false
   },
   "outputs": [
    {
     "data": {
      "text/plain": [
       "array([[[ 3.  ,  6.  ],\n",
       "        [ 1.75,  7.  ],\n",
       "        [ 1.75,  3.  ],\n",
       "        [ 3.  ,  4.  ]]])"
      ]
     },
     "execution_count": 57,
     "metadata": {},
     "output_type": "execute_result"
    }
   ],
   "source": [
    "np.array([3,5]) + np.array([controls])"
   ]
  }
 ],
 "metadata": {
  "kernelspec": {
   "display_name": "Python 3",
   "language": "python",
   "name": "python3"
  },
  "language_info": {
   "codemirror_mode": {
    "name": "ipython",
    "version": 3
   },
   "file_extension": ".py",
   "mimetype": "text/x-python",
   "name": "python",
   "nbconvert_exporter": "python",
   "pygments_lexer": "ipython3",
   "version": "3.5.1"
  },
  "name": "Untitled.ipynb"
 },
 "nbformat": 4,
 "nbformat_minor": 0
}
